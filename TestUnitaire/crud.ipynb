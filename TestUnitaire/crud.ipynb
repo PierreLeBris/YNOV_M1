{
 "cells": [
  {
   "cell_type": "code",
   "execution_count": 7,
   "metadata": {},
   "outputs": [
    {
     "ename": "AttributeError",
     "evalue": "module 'app' has no attribute 'route'",
     "output_type": "error",
     "traceback": [
      "\u001b[1;31m---------------------------------------------------------------------------\u001b[0m",
      "\u001b[1;31mAttributeError\u001b[0m                            Traceback (most recent call last)",
      "\u001b[1;32md:\\YNOV_M1\\YNOV_M1\\TestUnitaire\\crud.ipynb Cell 1'\u001b[0m in \u001b[0;36m<module>\u001b[1;34m\u001b[0m\n\u001b[0;32m      <a href='vscode-notebook-cell:/d%3A/YNOV_M1/YNOV_M1/TestUnitaire/crud.ipynb#ch0000000?line=2'>3</a>\u001b[0m \u001b[39mfrom\u001b[39;00m \u001b[39mbson\u001b[39;00m\u001b[39m.\u001b[39;00m\u001b[39mobjectid\u001b[39;00m \u001b[39mimport\u001b[39;00m ObjectId\n\u001b[0;32m      <a href='vscode-notebook-cell:/d%3A/YNOV_M1/YNOV_M1/TestUnitaire/crud.ipynb#ch0000000?line=3'>4</a>\u001b[0m \u001b[39mfrom\u001b[39;00m \u001b[39mflask\u001b[39;00m \u001b[39mimport\u001b[39;00m jsonify, request\n\u001b[1;32m----> <a href='vscode-notebook-cell:/d%3A/YNOV_M1/YNOV_M1/TestUnitaire/crud.ipynb#ch0000000?line=5'>6</a>\u001b[0m \u001b[39m@app\u001b[39m\u001b[39m.\u001b[39;49mroute(\u001b[39m'\u001b[39m\u001b[39m/add\u001b[39m\u001b[39m'\u001b[39m, methods\u001b[39m=\u001b[39m[\u001b[39m'\u001b[39m\u001b[39mPOST\u001b[39m\u001b[39m'\u001b[39m])\n\u001b[0;32m      <a href='vscode-notebook-cell:/d%3A/YNOV_M1/YNOV_M1/TestUnitaire/crud.ipynb#ch0000000?line=6'>7</a>\u001b[0m \u001b[39mdef\u001b[39;00m \u001b[39madd_user\u001b[39m():\n\u001b[0;32m      <a href='vscode-notebook-cell:/d%3A/YNOV_M1/YNOV_M1/TestUnitaire/crud.ipynb#ch0000000?line=7'>8</a>\u001b[0m \t_json \u001b[39m=\u001b[39m request\u001b[39m.\u001b[39mjson\n\u001b[0;32m      <a href='vscode-notebook-cell:/d%3A/YNOV_M1/YNOV_M1/TestUnitaire/crud.ipynb#ch0000000?line=8'>9</a>\u001b[0m \t_name \u001b[39m=\u001b[39m _json[\u001b[39m'\u001b[39m\u001b[39mname\u001b[39m\u001b[39m'\u001b[39m]\n",
      "\u001b[1;31mAttributeError\u001b[0m: module 'app' has no attribute 'route'"
     ]
    }
   ],
   "source": [
    "import app\n",
    "import route\n",
    "from bson.json_util import dumps\n",
    "from bson.objectid import ObjectId\n",
    "from flask import jsonify, request\n",
    "\n",
    "@app.route('/add', methods=['POST'])\n",
    "def add_user():\n",
    "\t_json = request.json\n",
    "\t_name = _json['name']\n",
    "\t_email = _json['email']\n",
    "\t# validate the received values\n",
    "\tif _name and _email and _password and request.method == 'POST':\n",
    "\t\t#do not save password as a plain text\n",
    "\t\t# save details\n",
    "\t\tid = mongo.db.user.insert({'name': _name, 'email': _email})\n",
    "\t\tresp = jsonify('User added successfully!')\n",
    "\t\tresp.status_code = 200\n",
    "\t\treturn resp\n",
    "\telse:\n",
    "\t\treturn not_found()\n",
    "\t\t\n",
    "@app.route('/users')\n",
    "def users():\n",
    "\tusers = mongo.db.user.find()\n",
    "\tresp = dumps(users)\n",
    "\treturn resp\n",
    "\t\t\n",
    "@app.route('/user/<id>')\n",
    "def user(id):\n",
    "\tuser = mongo.db.user.find_one({'_id': ObjectId(id)})\n",
    "\tresp = dumps(user)\n",
    "\treturn resp\n",
    "\n",
    "@app.route('/update', methods=['PUT'])\n",
    "def update_user():\n",
    "\t_json = request.json\n",
    "\t_id = _json['_id']\n",
    "\t_name = _json['name']\n",
    "\t_email = _json['email']\n",
    "\t_password = _json['pwd']\t\t\n",
    "\t# validate the received values\n",
    "\tif _name and _email and _password and _id and request.method == 'PUT':\n",
    "\t\t#do not save password as a plain text\n",
    "\t\t_hashed_password = generate_password_hash(_password)\n",
    "\t\t# save edits\n",
    "\t\tmongo.db.user.update_one({'_id': ObjectId(_id['$oid']) if '$oid' in _id else ObjectId(_id)}, {'$set': {'name': _name, 'email': _email, 'pwd': _hashed_password}})\n",
    "\t\tresp = jsonify('User updated successfully!')\n",
    "\t\tresp.status_code = 200\n",
    "\t\treturn resp\n",
    "\telse:\n",
    "\t\treturn not_found()\n",
    "\t\t\n",
    "@app.route('/delete/<id>', methods=['DELETE'])\n",
    "def delete_user(id):\n",
    "\tmongo.db.user.delete_one({'_id': ObjectId(id)})\n",
    "\tresp = jsonify('User deleted successfully!')\n",
    "\tresp.status_code = 200\n",
    "\treturn resp\n",
    "\t\t\n",
    "@app.errorhandler(404)\n",
    "def not_found(error=None):\n",
    "    message = {\n",
    "        'status': 404,\n",
    "        'message': 'Not Found: ' + request.url,\n",
    "    }\n",
    "    resp = jsonify(message)\n",
    "    resp.status_code = 404\n",
    "\n",
    "    return resp\n",
    "\n",
    "if __name__ == \"__main__\":\n",
    "    app.run()"
   ]
  }
 ],
 "metadata": {
  "interpreter": {
   "hash": "60b51427f979fa642d0033feef923a8722499a3dd60fba6b33cc7fbc8e3730d0"
  },
  "kernelspec": {
   "display_name": "Python 3.9.9 64-bit",
   "language": "python",
   "name": "python3"
  },
  "language_info": {
   "codemirror_mode": {
    "name": "ipython",
    "version": 3
   },
   "file_extension": ".py",
   "mimetype": "text/x-python",
   "name": "python",
   "nbconvert_exporter": "python",
   "pygments_lexer": "ipython3",
   "version": "3.9.9"
  },
  "orig_nbformat": 4
 },
 "nbformat": 4,
 "nbformat_minor": 2
}
