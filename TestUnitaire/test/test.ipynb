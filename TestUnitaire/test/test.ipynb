{
 "cells": [
  {
   "cell_type": "code",
   "execution_count": 18,
   "metadata": {},
   "outputs": [
    {
     "name": "stderr",
     "output_type": "stream",
     "text": [
      "C:\\Users\\Pierre LE BRIS\\AppData\\Local\\Temp\\ipykernel_20032\\2565019023.py:7: DeprecationWarning: executable_path has been deprecated, please pass in a Service object\n",
      "  browser = webdriver.Chrome('E:\\DocumentGitHub\\YNOV_M1\\TestUnitaire\\chromedriver')\n"
     ]
    },
    {
     "data": {
      "text/plain": [
       "203031"
      ]
     },
     "execution_count": 18,
     "metadata": {},
     "output_type": "execute_result"
    }
   ],
   "source": [
    "\n",
    "# Importing important library\n",
    "from selenium import webdriver\n",
    "from selenium.webdriver.common.keys import Keys\n",
    "import pandas as pd\n",
    "  \n",
    "# using chrome browser\n",
    "browser = webdriver.Chrome('E:\\DocumentGitHub\\YNOV_M1\\TestUnitaire\\chromedriver')\n",
    "\n",
    "  \n",
    "# Target url\n",
    "browser.get(\n",
    "    \"https://www.geeksforgeeks.org/competitive-programming-a-complete-guide/\")\n",
    "  \n",
    "# Storing the page source in page variable\n",
    "page = browser.page_source.encode('utf-8')\n",
    "# print(page)\n",
    "  \n",
    "# open result.html\n",
    "file_ = open('result.html', 'wb')\n",
    "  \n",
    "# Write the entire page content in result.html\n",
    "file_.write(page)\n",
    "  "
   ]
  }
 ],
 "metadata": {
  "interpreter": {
   "hash": "63fd5069d213b44bf678585dea6b12cceca9941eaf7f819626cde1f2670de90d"
  },
  "kernelspec": {
   "display_name": "Python 3.9.10 64-bit",
   "name": "python3"
  },
  "language_info": {
   "codemirror_mode": {
    "name": "ipython",
    "version": 3
   },
   "file_extension": ".py",
   "mimetype": "text/x-python",
   "name": "python",
   "nbconvert_exporter": "python",
   "pygments_lexer": "ipython3",
   "version": "3.9.10"
  },
  "orig_nbformat": 4
 },
 "nbformat": 4,
 "nbformat_minor": 2
}
