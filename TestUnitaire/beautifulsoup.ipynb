{
 "cells": [
  {
   "cell_type": "markdown",
   "metadata": {},
   "source": [
    "![alt text](https://funthon.files.wordpress.com/2017/05/bs.png?w=1200)"
   ]
  },
  {
   "cell_type": "markdown",
   "metadata": {},
   "source": [
    "# Ressources \n",
    "doc officiel : https://www.crummy.com/software/BeautifulSoup/bs4/doc/ <br>\n",
    "https://www.webscraper.io/test-sites\n",
    "\n",
    "**Quand vous scrappez, essayez de toujours de simuler le comportement d'un humain, un scrappage trop intensif sur un site internet peut le casser. De plus, votre ip pourra être bloquée selon les moyens de protections des sites internet**"
   ]
  },
  {
   "cell_type": "code",
   "execution_count": null,
   "metadata": {},
   "outputs": [],
   "source": []
  },
  {
   "cell_type": "code",
   "execution_count": 10,
   "metadata": {},
   "outputs": [],
   "source": [
    "from bs4 import BeautifulSoup"
   ]
  },
  {
   "cell_type": "code",
   "execution_count": 11,
   "metadata": {},
   "outputs": [],
   "source": [
    "html= \"\"\"\n",
    "<html>\n",
    "    <head>\n",
    "    </head>\n",
    "    <body>\n",
    "        <div class=\"block1\">\n",
    "            <h1> Les meilleurs citations </h1>\n",
    "\n",
    "                <h2> Horace Mann </h2>\n",
    "                <div>\n",
    "                    <p class = \"texte-h2\"> \"Be ashamed to die until you have won some victory for humanity\"</p>\n",
    "                    <p class = \"salaire\"> \"Il est payé 3 €\"</p>\n",
    "                </div>\n",
    "\n",
    "                <h2> Lelouch Vi Britannia </h2>\n",
    "                <div>\n",
    "                    <p class = \"texte-h2\" > \"Vivre sans rien faire est pareil à une mort lente\" </p>\n",
    "                    <p class = \"texte-h2\"> \"I must spill yet more blood, so the blood already split will not be in vain.\" </p>\n",
    "                    <p class = \"salaire\"> \"Il est payé 0€\"</p>\n",
    "                </div>\n",
    "\n",
    "                    <h2> Nabilla </h2>\n",
    "                <div>\n",
    "                    <p class = \"texte-h2\"> \"Non mais allo quoi\"</p>\n",
    "                    <p class = \"salaire\"> \"Elle est payée 3000 €\"</p>\n",
    "                </div>\n",
    "        </div>\n",
    "        \n",
    "        \n",
    "        \n",
    "        <div class=\"block2\">\n",
    "            <h1> Conclusions </h1>\n",
    "                <h2> Une conclusion pas top</h2>\n",
    "                <div>\n",
    "                    <p class =\"travail\"> Work hard !</p>\n",
    "                    <p class = \"famille\" > Par hard !</p>\n",
    "                    <p class = \"party\" > Party hard !</p>\n",
    "                </div>\n",
    "        </div>\n",
    "        \n",
    "        <div class=\"block2 fin\">\n",
    "            <h2> c'est un faux block 2</h2>\n",
    "        </div>\n",
    "        <p id = \"outlier\" title=\"MrMoche\">Ce paragraphe là n'a rien à faire ici 300 €</p\n",
    "    </body>\n",
    "\n",
    "</html>\n",
    "\"\"\"\n",
    "\n",
    "soup = BeautifulSoup(html, 'html.parser')\n",
    "#soup2 = BeautifulSoup(open('site.html'),'html.parser')"
   ]
  },
  {
   "cell_type": "code",
   "execution_count": 12,
   "metadata": {},
   "outputs": [
    {
     "name": "stdout",
     "output_type": "stream",
     "text": [
      "[<p class=\"texte-h2\"> \"Be ashamed to die until you have won some victory for humanity\"</p>]\n",
      "[<p class=\"texte-h2\"> \"Vivre sans rien faire est pareil à une mort lente\" </p>, <p class=\"texte-h2\"> \"I must spill yet more blood, so the blood already split will not be in vain.\" </p>]\n",
      "[<p class=\"texte-h2\"> \"Non mais allo quoi\"</p>]\n"
     ]
    }
   ],
   "source": [
    "#class=\"block1\"\n",
    "x = soup.select('div.block1 div')\n",
    "for i in x:\n",
    "    print(i.findAll('p',{'class':'texte-h2'}))\n"
   ]
  },
  {
   "cell_type": "markdown",
   "metadata": {},
   "source": [
    "## FindAll"
   ]
  },
  {
   "cell_type": "code",
   "execution_count": 13,
   "metadata": {
    "scrolled": true
   },
   "outputs": [
    {
     "name": "stdout",
     "output_type": "stream",
     "text": [
      "[<h1> Les meilleurs citations </h1>, <h1> Conclusions </h1>]\n",
      "[' Les meilleurs citations ', ' Conclusions ']\n"
     ]
    }
   ],
   "source": [
    "#retourne une liste de toutes les balises \"h1\"\n",
    "h1_brut = soup.findAll('h1')\n",
    "print(h1_brut)\n",
    "\n",
    "#retourne une liste de toutes les valeurs à l'intérieur des balises \"h1\"\n",
    "liste_h1 = [h1.string for h1 in h1_brut]\n",
    "print(liste_h1)"
   ]
  },
  {
   "cell_type": "code",
   "execution_count": 14,
   "metadata": {},
   "outputs": [
    {
     "data": {
      "text/plain": [
       "[<p class=\"texte-h2\"> \"Be ashamed to die until you have won some victory for humanity\"</p>,\n",
       " <p class=\"salaire\"> \"Il est payé 3 €\"</p>,\n",
       " <p class=\"texte-h2\"> \"Vivre sans rien faire est pareil à une mort lente\" </p>,\n",
       " <p class=\"texte-h2\"> \"I must spill yet more blood, so the blood already split will not be in vain.\" </p>,\n",
       " <p class=\"salaire\"> \"Il est payé 0€\"</p>,\n",
       " <p class=\"texte-h2\"> \"Non mais allo quoi\"</p>,\n",
       " <p class=\"salaire\"> \"Elle est payée 3000 €\"</p>,\n",
       " <p class=\"travail\"> Work hard !</p>,\n",
       " <p class=\"famille\"> Par hard !</p>,\n",
       " <p class=\"party\"> Party hard !</p>,\n",
       " <p id=\"outlier\" title=\"MrMoche\">Ce paragraphe là n'a rien à faire ici 300 €</p>]"
      ]
     },
     "execution_count": 14,
     "metadata": {},
     "output_type": "execute_result"
    }
   ],
   "source": [
    "#pareil avec 'p'\n",
    "\n",
    "soup.findAll('p')"
   ]
  },
  {
   "cell_type": "code",
   "execution_count": 15,
   "metadata": {},
   "outputs": [
    {
     "data": {
      "text/plain": [
       "[<p class=\"travail\"> Work hard !</p>]"
      ]
     },
     "execution_count": 15,
     "metadata": {},
     "output_type": "execute_result"
    }
   ],
   "source": [
    "#si l'on veut sortir ceux d'une classe en particulier, il faut procéder de la manière suivante\n",
    "\n",
    "soup.findAll('p', {'class':'travail'})"
   ]
  },
  {
   "cell_type": "code",
   "execution_count": 16,
   "metadata": {},
   "outputs": [
    {
     "data": {
      "text/plain": [
       "[<p class=\"texte-h2\"> \"Be ashamed to die until you have won some victory for humanity\"</p>,\n",
       " <p class=\"texte-h2\"> \"Vivre sans rien faire est pareil à une mort lente\" </p>,\n",
       " <p class=\"texte-h2\"> \"I must spill yet more blood, so the blood already split will not be in vain.\" </p>,\n",
       " <p class=\"texte-h2\"> \"Non mais allo quoi\"</p>,\n",
       " <p class=\"travail\"> Work hard !</p>]"
      ]
     },
     "execution_count": 16,
     "metadata": {},
     "output_type": "execute_result"
    }
   ],
   "source": [
    "#si l'on veut sortir ceux de plusieurs class en particulier, il faut procéder de la manière suivante :\n",
    "\n",
    "soup.findAll('p',{'class':['travail','texte-h2']})"
   ]
  },
  {
   "cell_type": "code",
   "execution_count": 17,
   "metadata": {},
   "outputs": [
    {
     "data": {
      "text/plain": [
       "'MrMoche'"
      ]
     },
     "execution_count": 17,
     "metadata": {},
     "output_type": "execute_result"
    }
   ],
   "source": [
    "#nous pouvons accéder au titre avec .attrs (! Cela ne fonctionne que sur un élément, notez le find au lieu du findAll)\n",
    "\n",
    "soup.find(\"p\",{\"id\":'outlier'}).attrs['title'] "
   ]
  },
  {
   "cell_type": "code",
   "execution_count": 18,
   "metadata": {},
   "outputs": [
    {
     "data": {
      "text/plain": []
     },
     "execution_count": 18,
     "metadata": {},
     "output_type": "execute_result"
    }
   ],
   "source": [
    "BeautifulSoup()"
   ]
  },
  {
   "cell_type": "markdown",
   "metadata": {},
   "source": [
    "## Select"
   ]
  },
  {
   "cell_type": "code",
   "execution_count": 19,
   "metadata": {},
   "outputs": [
    {
     "data": {
      "text/plain": [
       "[<h2> Horace Mann </h2>,\n",
       " <h2> Lelouch Vi Britannia </h2>,\n",
       " <h2> Nabilla </h2>,\n",
       " <h2> Une conclusion pas top</h2>,\n",
       " <h2> c'est un faux block 2</h2>]"
      ]
     },
     "execution_count": 19,
     "metadata": {},
     "output_type": "execute_result"
    }
   ],
   "source": [
    "#Select permet de récupérer des élements par rapport à leur \"arborescence\"\n",
    "x = soup.select('div h2')\n",
    "x#il cherche dans toute les divs les h2\n"
   ]
  },
  {
   "cell_type": "code",
   "execution_count": 20,
   "metadata": {},
   "outputs": [
    {
     "data": {
      "text/plain": [
       "[<h2> Une conclusion pas top</h2>, <h2> c'est un faux block 2</h2>]"
      ]
     },
     "execution_count": 20,
     "metadata": {},
     "output_type": "execute_result"
    }
   ],
   "source": [
    "soup.select('div.block2 h2') #il cherche les h2 dans toute les divs ayant la class block2"
   ]
  },
  {
   "cell_type": "code",
   "execution_count": 21,
   "metadata": {},
   "outputs": [
    {
     "data": {
      "text/plain": [
       "[<h2> c'est un faux block 2</h2>]"
      ]
     },
     "execution_count": 21,
     "metadata": {},
     "output_type": "execute_result"
    }
   ],
   "source": [
    "soup.select('div.block2.fin h2') #il cherche les h2 dans toute les divs ayant la class block2 et fin "
   ]
  },
  {
   "cell_type": "code",
   "execution_count": 22,
   "metadata": {
    "scrolled": true
   },
   "outputs": [
    {
     "data": {
      "text/plain": [
       "'MrMoche'"
      ]
     },
     "execution_count": 22,
     "metadata": {},
     "output_type": "execute_result"
    }
   ],
   "source": [
    "#nous pouvons accéder au titre avec .attrs (! Cela ne fonctionne que sur un élément, notez le select_one au lieu du select)\n",
    "soup.select_one(\"#outlier\").attrs['title']"
   ]
  },
  {
   "cell_type": "code",
   "execution_count": null,
   "metadata": {},
   "outputs": [],
   "source": []
  },
  {
   "cell_type": "markdown",
   "metadata": {},
   "source": [
    "## Exercices"
   ]
  },
  {
   "cell_type": "markdown",
   "metadata": {},
   "source": [
    "Récupérer toutes les citations"
   ]
  },
  {
   "cell_type": "code",
   "execution_count": null,
   "metadata": {},
   "outputs": [],
   "source": []
  },
  {
   "cell_type": "markdown",
   "metadata": {},
   "source": [
    "créer un dictionnaire avec les noms des auteurs des citations en clés et les citations en valeurs"
   ]
  },
  {
   "cell_type": "code",
   "execution_count": null,
   "metadata": {
    "scrolled": true
   },
   "outputs": [],
   "source": []
  },
  {
   "cell_type": "markdown",
   "metadata": {},
   "source": [
    "Calculer la moyenne des salaires (en utilisant regex pour récupérer les salaires, évidemment)"
   ]
  },
  {
   "cell_type": "code",
   "execution_count": null,
   "metadata": {},
   "outputs": [],
   "source": []
  },
  {
   "cell_type": "markdown",
   "metadata": {},
   "source": [
    "# Scrapping library internet"
   ]
  },
  {
   "cell_type": "code",
   "execution_count": 23,
   "metadata": {},
   "outputs": [],
   "source": [
    "url = \"http://books.toscrape.com/\""
   ]
  },
  {
   "cell_type": "markdown",
   "metadata": {},
   "source": [
    "Créer un dataframe qui stock tout les 1000 livres avec comme colonne le titre du livre, sa notation, son prix et sa disponibilité. Il y a actuellement 50 pages mais votre script doit prendre en compte une augmentation future de ce nombre de pages. Bonus si vous faite votre code fait à peut près 20 lignes"
   ]
  },
  {
   "cell_type": "code",
   "execution_count": null,
   "metadata": {},
   "outputs": [],
   "source": []
  },
  {
   "cell_type": "markdown",
   "metadata": {},
   "source": [
    "Est-ce que la moyenne des prix des livres notés 1 est différente de la moyenne des prix des livrés notés 5 ? "
   ]
  },
  {
   "cell_type": "code",
   "execution_count": null,
   "metadata": {},
   "outputs": [],
   "source": []
  },
  {
   "cell_type": "markdown",
   "metadata": {},
   "source": [
    "Représentez sous forme de camembert la répartition des notes"
   ]
  },
  {
   "cell_type": "code",
   "execution_count": null,
   "metadata": {},
   "outputs": [],
   "source": []
  },
  {
   "cell_type": "markdown",
   "metadata": {},
   "source": [
    "### bonus"
   ]
  },
  {
   "cell_type": "markdown",
   "metadata": {},
   "source": [
    " Répondez exactement aux mêmes questions avec ce site internet : https://www.webscraper.io/test-sites/e-commerce/static/computers/laptops"
   ]
  },
  {
   "cell_type": "code",
   "execution_count": null,
   "metadata": {},
   "outputs": [],
   "source": []
  }
 ],
 "metadata": {
  "kernelspec": {
   "display_name": "Python 3",
   "language": "python",
   "name": "python3"
  },
  "language_info": {
   "codemirror_mode": {
    "name": "ipython",
    "version": 3
   },
   "file_extension": ".py",
   "mimetype": "text/x-python",
   "name": "python",
   "nbconvert_exporter": "python",
   "pygments_lexer": "ipython3",
   "version": "3.9.9"
  },
  "varInspector": {
   "cols": {
    "lenName": 16,
    "lenType": 16,
    "lenVar": 40
   },
   "kernels_config": {
    "python": {
     "delete_cmd_postfix": "",
     "delete_cmd_prefix": "del ",
     "library": "var_list.py",
     "varRefreshCmd": "print(var_dic_list())"
    },
    "r": {
     "delete_cmd_postfix": ") ",
     "delete_cmd_prefix": "rm(",
     "library": "var_list.r",
     "varRefreshCmd": "cat(var_dic_list()) "
    }
   },
   "types_to_exclude": [
    "module",
    "function",
    "builtin_function_or_method",
    "instance",
    "_Feature"
   ],
   "window_display": false
  }
 },
 "nbformat": 4,
 "nbformat_minor": 2
}
