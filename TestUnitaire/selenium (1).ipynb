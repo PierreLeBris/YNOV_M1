{
 "cells": [
  {
   "cell_type": "markdown",
   "metadata": {},
   "source": [
    "# Selenium : Mets ton navigateur en mode automatique"
   ]
  },
  {
   "cell_type": "markdown",
   "metadata": {},
   "source": [
    "La doc : https://selenium-python.readthedocs.io/navigating.html<br>\n",
    "moins complète mais plus propre : http://akul.me/blog/2016/selenium-cheatsheet/ <br>\n",
    "Cheatsheet : http://allselenium.info/python-selenium-commands-cheat-sheet-frequently-used/<br>\n",
    "xpath Cheatsheet : https://devhints.io/xpath<br>\n"
   ]
  },
  {
   "cell_type": "code",
   "execution_count": null,
   "metadata": {},
   "outputs": [],
   "source": []
  },
  {
   "cell_type": "markdown",
   "metadata": {},
   "source": [
    "## Installation "
   ]
  },
  {
   "cell_type": "markdown",
   "metadata": {},
   "source": [
    "Avec Anaconda : ouvrir anaconda prompt et executer : \"conda install -c conda-forge selenium\" \\\n",
    "Avec le gestionnaire de package pip:  pip install selenium\n",
    "\n",
    "Télécharger webdriver: https://chromedriver.chromium.org/downloads . \\\n",
    "Rangez-le dans un dossier et rajoutez le path du fichier chromedriver.exe dans vos variables d'environnement système (puis redémarrer)."
   ]
  },
  {
   "cell_type": "code",
   "execution_count": 124,
   "metadata": {},
   "outputs": [],
   "source": [
    "# !pip install selenium"
   ]
  },
  {
   "cell_type": "code",
   "execution_count": 125,
   "metadata": {},
   "outputs": [],
   "source": [
    "import time\n",
    "from selenium import webdriver \n",
    "from selenium.webdriver.common.keys import Keys\n",
    "import pandas as pd"
   ]
  },
  {
   "cell_type": "markdown",
   "metadata": {},
   "source": [
    "## Connexion"
   ]
  },
  {
   "cell_type": "code",
   "execution_count": 126,
   "metadata": {},
   "outputs": [
    {
     "name": "stderr",
     "output_type": "stream",
     "text": [
      "C:\\Users\\pierr\\AppData\\Local\\Temp\\ipykernel_17296\\2710130591.py:1: DeprecationWarning: executable_path has been deprecated, please pass in a Service object\n",
      "  browser = webdriver.Chrome('D:\\YNOV_M1\\YNOV_M1\\TestUnitaire\\chromedriver')\n"
     ]
    }
   ],
   "source": [
    "browser = webdriver.Chrome('D:\\YNOV_M1\\YNOV_M1\\TestUnitaire\\chromedriver')\n",
    "#browser = webdriver.Chrome('E:\\DocumentGitHub\\YNOV_M1\\TestUnitaire\\chromedriver')"
   ]
  },
  {
   "cell_type": "code",
   "execution_count": 127,
   "metadata": {},
   "outputs": [],
   "source": [
    "#vous pouvez trouver quelque methodes interessantes\n",
    "\n",
    "#page precedentes : browser.back()\n",
    "#fermer le navigateur : browser.close()\n",
    "#parametrer le temps maximun d attentes pour qu'un element s'affiche : browser.implicitly_wait()\n",
    "#..."
   ]
  },
  {
   "cell_type": "code",
   "execution_count": 128,
   "metadata": {},
   "outputs": [],
   "source": [
    "browser.get('https://www.zalando.fr/')\n",
    "time.sleep(3)"
   ]
  },
  {
   "cell_type": "markdown",
   "metadata": {},
   "source": [
    "## Commandes principales"
   ]
  },
  {
   "cell_type": "markdown",
   "metadata": {},
   "source": [
    "##### Agrandir la fenêtre"
   ]
  },
  {
   "cell_type": "code",
   "execution_count": 129,
   "metadata": {},
   "outputs": [],
   "source": [
    "\n",
    "browser.maximize_window()\n",
    "time.sleep(2)"
   ]
  },
  {
   "cell_type": "markdown",
   "metadata": {},
   "source": [
    "##### Récupérer un élément et cliquer dessus"
   ]
  },
  {
   "cell_type": "code",
   "execution_count": 130,
   "metadata": {},
   "outputs": [
    {
     "name": "stderr",
     "output_type": "stream",
     "text": [
      "C:\\Users\\pierr\\AppData\\Local\\Temp\\ipykernel_17296\\1477190565.py:2: DeprecationWarning: find_element_by_* commands are deprecated. Please use find_element() instead\n",
      "  cookies = browser.find_element_by_xpath('//*[@id=\"uc-btn-accept-banner\"]')\n"
     ]
    }
   ],
   "source": [
    "# Banniere \n",
    "cookies = browser.find_element_by_xpath('//*[@id=\"uc-btn-accept-banner\"]')\n",
    "cookies.click()\n",
    "time.sleep(3)"
   ]
  },
  {
   "cell_type": "code",
   "execution_count": 131,
   "metadata": {},
   "outputs": [
    {
     "name": "stderr",
     "output_type": "stream",
     "text": [
      "C:\\Users\\pierr\\AppData\\Local\\Temp\\ipykernel_17296\\3097810002.py:2: DeprecationWarning: find_element_by_* commands are deprecated. Please use find_element() instead\n",
      "  femme = browser.find_element_by_xpath('//*[@id=\"z-navicat-header-root\"]/header/div[2]/div/div/div/div[1]/div/div/div/div[1]/div[1]/nav/ul/li[1]/a')\n"
     ]
    }
   ],
   "source": [
    "# femme menu\n",
    "femme = browser.find_element_by_xpath('//*[@id=\"z-navicat-header-root\"]/header/div[2]/div/div/div/div[1]/div/div/div/div[1]/div[1]/nav/ul/li[1]/a')\n",
    "femme.click()\n",
    "time.sleep(1)"
   ]
  },
  {
   "cell_type": "code",
   "execution_count": 132,
   "metadata": {},
   "outputs": [
    {
     "name": "stderr",
     "output_type": "stream",
     "text": [
      "C:\\Users\\pierr\\AppData\\Local\\Temp\\ipykernel_17296\\2610784339.py:1: DeprecationWarning: find_element_by_* commands are deprecated. Please use find_element() instead\n",
      "  chaussures = browser.find_element_by_xpath('//*[@id=\"z-navicat-header-root\"]/header/div[2]/div/div/div/div[1]/div/div/div/div[2]/div[2]/nav/ul/li[3]/span/a',)\n"
     ]
    }
   ],
   "source": [
    "chaussures = browser.find_element_by_xpath('//*[@id=\"z-navicat-header-root\"]/header/div[2]/div/div/div/div[1]/div/div/div/div[2]/div[2]/nav/ul/li[3]/span/a',)\n",
    "chaussures.click()\n",
    "time.sleep(1)"
   ]
  },
  {
   "cell_type": "code",
   "execution_count": 133,
   "metadata": {},
   "outputs": [
    {
     "name": "stderr",
     "output_type": "stream",
     "text": [
      "C:\\Users\\pierr\\AppData\\Local\\Temp\\ipykernel_17296\\2468138597.py:1: DeprecationWarning: find_element_by_* commands are deprecated. Please use find_element() instead\n",
      "  sneakers = browser.find_element_by_xpath(\"/html/body/div[4]/div/div/div/div[7]/div/div[1]/div/ul/li/ul/li[1]/a/span\")\n"
     ]
    }
   ],
   "source": [
    "sneakers = browser.find_element_by_xpath(\"/html/body/div[4]/div/div/div/div[7]/div/div[1]/div/ul/li/ul/li[1]/a/span\")\n",
    "sneakers.click()\n",
    "time.sleep(2)"
   ]
  },
  {
   "cell_type": "markdown",
   "metadata": {},
   "source": [
    "##### Récupérer une liste d'éléments"
   ]
  },
  {
   "cell_type": "code",
   "execution_count": 134,
   "metadata": {},
   "outputs": [],
   "source": [
    "#articles = browser.find_elements_by_tag_name('article')"
   ]
  },
  {
   "cell_type": "code",
   "execution_count": 135,
   "metadata": {},
   "outputs": [],
   "source": [
    "#articles[0].click()"
   ]
  },
  {
   "cell_type": "markdown",
   "metadata": {},
   "source": [
    "##### Récupérer le texte d'un élément"
   ]
  },
  {
   "cell_type": "code",
   "execution_count": 136,
   "metadata": {},
   "outputs": [
    {
     "name": "stderr",
     "output_type": "stream",
     "text": [
      "C:\\Users\\pierr\\AppData\\Local\\Temp\\ipykernel_17296\\4040952202.py:11: DeprecationWarning: find_elements_by_* commands are deprecated. Please use find_elements() instead\n",
      "  articles = browser.find_elements_by_tag_name('article')\n",
      "C:\\Users\\pierr\\AppData\\Local\\Temp\\ipykernel_17296\\4040952202.py:15: DeprecationWarning: find_element_by_* commands are deprecated. Please use find_element() instead\n",
      "  marques = browser.find_element_by_xpath('//*[@class=\"EKabf7 R_QwOV\"]')\n",
      "C:\\Users\\pierr\\AppData\\Local\\Temp\\ipykernel_17296\\4040952202.py:16: DeprecationWarning: find_element_by_* commands are deprecated. Please use find_element() instead\n",
      "  modeles = browser.find_element_by_xpath('//*[@class=\"OEhtt9 ka2E9k uMhVZi Kq1JPK pVrzNP _5Yd-hZ\"]')\n",
      "C:\\Users\\pierr\\AppData\\Local\\Temp\\ipykernel_17296\\4040952202.py:17: DeprecationWarning: find_element_by_* commands are deprecated. Please use find_element() instead\n",
      "  prix = browser.find_element_by_xpath('//*[@class=\"uqkIZw ka2E9k uMhVZi FxZV-M _6yVObe pVrzNP\"]')\n"
     ]
    },
    {
     "name": "stdout",
     "output_type": "stream",
     "text": [
      "                                        Marque :     Modèle :   \\\n",
      "0                          WS327 - Baskets basses  New Balance   \n",
      "1               RUN STAR HIKE - Baskets montantes     Converse   \n",
      "2                          WS327 - Baskets basses  New Balance   \n",
      "3                          WS327 - Baskets basses  New Balance   \n",
      "4  CHUCK TAYLOR ALL STAR MOVE - Baskets montantes     Converse   \n",
      "\n",
      "                Prix :   \n",
      "0              109,95 €  \n",
      "1              109,95 €  \n",
      "2              109,95 €  \n",
      "3  à partir de 119,95 €  \n",
      "4   à partir de 89,95 €  \n"
     ]
    }
   ],
   "source": [
    "time.sleep(2)\n",
    "\n",
    "from pprint import pprint\n",
    "\n",
    "liste_marque = []\n",
    "liste_modele = []\n",
    "liste_prix = []\n",
    "\n",
    "for x in range(0, 5):\n",
    "\n",
    "    articles = browser.find_elements_by_tag_name('article')\n",
    "    articles[x].click()\n",
    "\n",
    "\n",
    "    marques = browser.find_element_by_xpath('//*[@class=\"EKabf7 R_QwOV\"]')\n",
    "    modeles = browser.find_element_by_xpath('//*[@class=\"OEhtt9 ka2E9k uMhVZi Kq1JPK pVrzNP _5Yd-hZ\"]')\n",
    "    prix = browser.find_element_by_xpath('//*[@class=\"uqkIZw ka2E9k uMhVZi FxZV-M _6yVObe pVrzNP\"]')\n",
    "\n",
    "    liste_marque.append(marques.text)\n",
    "    liste_modele.append(modeles.text)\n",
    "    liste_prix.append(prix.text)\n",
    "\n",
    "    browser.back()\n",
    "    \n",
    "dictionary = {\"Marque : \":liste_marque, \"Modèle : \":liste_modele, \"Prix : \":liste_prix}\n",
    "df = pd.DataFrame(dictionary)\n",
    "\n",
    "pprint(df)\n"
   ]
  },
  {
   "cell_type": "markdown",
   "metadata": {},
   "source": [
    " ##### Intéragir avec les barres de recherches"
   ]
  },
  {
   "cell_type": "code",
   "execution_count": 137,
   "metadata": {},
   "outputs": [],
   "source": [
    "#recherche = browser.find_element_by_xpath('//*[@id=\"z-navicat-header-root\"]/header/div[2]/div/div/div/div[1]/div/div/div/div[2]/div[3]/form/div/input')\n",
    "#recherche.send_keys('chaussures femme')\n",
    "#time.sleep(6)"
   ]
  },
  {
   "cell_type": "code",
   "execution_count": 138,
   "metadata": {},
   "outputs": [],
   "source": [
    "#recherche.send_keys(Keys.ENTER)\n",
    "#time.sleep(3)"
   ]
  },
  {
   "cell_type": "code",
   "execution_count": 139,
   "metadata": {},
   "outputs": [],
   "source": [
    "#browser.back() # pages precedentes\n",
    "#browser.close() # fermer le navigateur"
   ]
  },
  {
   "cell_type": "markdown",
   "metadata": {},
   "source": [
    "## Exercice \n",
    "\n",
    "Scrappez la marque, le modèle et le prix d'une série d'articles de votre choix pour en faire un dataframe pandas"
   ]
  },
  {
   "cell_type": "code",
   "execution_count": null,
   "metadata": {},
   "outputs": [],
   "source": []
  }
 ],
 "metadata": {
  "interpreter": {
   "hash": "63fd5069d213b44bf678585dea6b12cceca9941eaf7f819626cde1f2670de90d"
  },
  "kernelspec": {
   "display_name": "Python 3.9.10 64-bit",
   "name": "python3"
  },
  "language_info": {
   "codemirror_mode": {
    "name": "ipython",
    "version": 3
   },
   "file_extension": ".py",
   "mimetype": "text/x-python",
   "name": "python",
   "nbconvert_exporter": "python",
   "pygments_lexer": "ipython3",
   "version": "3.9.10"
  },
  "varInspector": {
   "cols": {
    "lenName": 16,
    "lenType": 16,
    "lenVar": 40
   },
   "kernels_config": {
    "python": {
     "delete_cmd_postfix": "",
     "delete_cmd_prefix": "del ",
     "library": "var_list.py",
     "varRefreshCmd": "print(var_dic_list())"
    },
    "r": {
     "delete_cmd_postfix": ") ",
     "delete_cmd_prefix": "rm(",
     "library": "var_list.r",
     "varRefreshCmd": "cat(var_dic_list()) "
    }
   },
   "types_to_exclude": [
    "module",
    "function",
    "builtin_function_or_method",
    "instance",
    "_Feature"
   ],
   "window_display": false
  }
 },
 "nbformat": 4,
 "nbformat_minor": 2
}
