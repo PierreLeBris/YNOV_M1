{
 "cells": [
  {
   "cell_type": "code",
   "execution_count": 1,
   "metadata": {},
   "outputs": [],
   "source": [
    "#!pip install selenium"
   ]
  },
  {
   "cell_type": "code",
   "execution_count": 2,
   "metadata": {},
   "outputs": [],
   "source": [
    "import time\n",
    "from selenium import webdriver \n",
    "from selenium.webdriver.common.keys import Keys\n",
    "import pandas as pd"
   ]
  },
  {
   "cell_type": "code",
   "execution_count": 3,
   "metadata": {},
   "outputs": [
    {
     "name": "stderr",
     "output_type": "stream",
     "text": [
      "C:\\Users\\pierr\\AppData\\Local\\Temp\\ipykernel_15152\\1700518738.py:2: DeprecationWarning: executable_path has been deprecated, please pass in a Service object\n",
      "  browser = webdriver.Chrome('D:\\YNOV_M1\\YNOV_M1\\TestUnitaire\\chromedriver')\n"
     ]
    }
   ],
   "source": [
    "#browser = webdriver.Chrome('E:\\DocumentGitHub\\YNOV_M1\\TestUnitaire\\chromedriver')\n",
    "browser = webdriver.Chrome('D:\\YNOV_M1\\YNOV_M1\\TestUnitaire\\chromedriver')"
   ]
  },
  {
   "cell_type": "code",
   "execution_count": 4,
   "metadata": {},
   "outputs": [],
   "source": [
    "browser.get('https://auth.global-exam.com/sso/cas/ynov/4603')\n",
    "time.sleep(3)"
   ]
  },
  {
   "cell_type": "code",
   "execution_count": 5,
   "metadata": {},
   "outputs": [],
   "source": [
    "browser.maximize_window()\n",
    "time.sleep(2)"
   ]
  },
  {
   "cell_type": "code",
   "execution_count": 6,
   "metadata": {},
   "outputs": [
    {
     "name": "stderr",
     "output_type": "stream",
     "text": [
      "C:\\Users\\pierr\\AppData\\Local\\Temp\\ipykernel_15152\\873233693.py:1: DeprecationWarning: find_element_by_* commands are deprecated. Please use find_element() instead\n",
      "  username = browser.find_element_by_xpath('//*[@name=\"username\"]')\n"
     ]
    }
   ],
   "source": [
    "username = browser.find_element_by_xpath('//*[@name=\"username\"]')\n",
    "username.send_keys('pierre.lebris@ynov.com')\n",
    "time.sleep(3)"
   ]
  },
  {
   "cell_type": "code",
   "execution_count": 7,
   "metadata": {},
   "outputs": [
    {
     "name": "stderr",
     "output_type": "stream",
     "text": [
      "C:\\Users\\pierr\\AppData\\Local\\Temp\\ipykernel_15152\\2673362368.py:1: DeprecationWarning: find_element_by_* commands are deprecated. Please use find_element() instead\n",
      "  password = browser.find_element_by_xpath('//*[@name=\"password\"]')\n"
     ]
    }
   ],
   "source": [
    "password = browser.find_element_by_xpath('//*[@name=\"password\"]')\n",
    "password.send_keys('Dx.Hawk77850')\n",
    "time.sleep(6)"
   ]
  },
  {
   "cell_type": "code",
   "execution_count": 8,
   "metadata": {},
   "outputs": [
    {
     "name": "stderr",
     "output_type": "stream",
     "text": [
      "C:\\Users\\pierr\\AppData\\Local\\Temp\\ipykernel_15152\\3132550752.py:1: DeprecationWarning: find_element_by_* commands are deprecated. Please use find_element() instead\n",
      "  connect = browser.find_element_by_xpath('//*[@name=\"submit\"]')\n"
     ]
    }
   ],
   "source": [
    "connect = browser.find_element_by_xpath('//*[@name=\"submit\"]')\n",
    "connect.click()\n",
    "time.sleep(3)"
   ]
  },
  {
   "cell_type": "code",
   "execution_count": 9,
   "metadata": {},
   "outputs": [
    {
     "name": "stderr",
     "output_type": "stream",
     "text": [
      "C:\\Users\\pierr\\AppData\\Local\\Temp\\ipykernel_15152\\3926827838.py:1: DeprecationWarning: find_element_by_* commands are deprecated. Please use find_element() instead\n",
      "  exercice = browser.find_element_by_xpath('//*[@href=\"https://exam.global-exam.com/user-plannings/587372\"]')\n"
     ]
    }
   ],
   "source": [
    "exercice = browser.find_element_by_xpath('//*[@href=\"https://exam.global-exam.com/user-plannings/587372\"]')\n",
    "exercice.click()\n",
    "time.sleep(3)"
   ]
  },
  {
   "cell_type": "code",
   "execution_count": 10,
   "metadata": {},
   "outputs": [
    {
     "name": "stderr",
     "output_type": "stream",
     "text": [
      "C:\\Users\\pierr\\AppData\\Local\\Temp\\ipykernel_15152\\62283393.py:1: DeprecationWarning: find_element_by_* commands are deprecated. Please use find_element() instead\n",
      "  lauch = browser.find_element_by_xpath('/html/body/div[1]/main/div/div/div/div[2]/div[1]/div[2]/button[2]/p[contains(text(),\"Partie 1 - Photographies\")]')\n"
     ]
    }
   ],
   "source": [
    "lauch = browser.find_element_by_xpath('/html/body/div[1]/main/div/div/div/div[2]/div[1]/div[2]/button[2]/p[contains(text(),\"Partie 1 - Photographies\")]')\n",
    "lauch.click()\n",
    "time.sleep(3)"
   ]
  },
  {
   "cell_type": "code",
   "execution_count": 11,
   "metadata": {},
   "outputs": [
    {
     "name": "stderr",
     "output_type": "stream",
     "text": [
      "C:\\Users\\pierr\\AppData\\Local\\Temp\\ipykernel_15152\\299177245.py:1: DeprecationWarning: find_element_by_* commands are deprecated. Please use find_element() instead\n",
      "  dem = browser.find_element_by_xpath('/html/body/div[1]/div[1]/main/div/div/div[2]/button[contains(text(),\"Démarrer\")]')\n"
     ]
    }
   ],
   "source": [
    "\n",
    "dem = browser.find_element_by_xpath('/html/body/div[1]/div[1]/main/div/div/div[2]/button[contains(text(),\"Démarrer\")]')\n",
    "dem.click()\n",
    "time.sleep(3)"
   ]
  },
  {
   "cell_type": "code",
   "execution_count": 12,
   "metadata": {},
   "outputs": [
    {
     "name": "stderr",
     "output_type": "stream",
     "text": [
      "C:\\Users\\pierr\\AppData\\Local\\Temp\\ipykernel_15152\\3967711906.py:1: DeprecationWarning: find_element_by_* commands are deprecated. Please use find_element() instead\n",
      "  rep = browser.find_element_by_xpath('/html/body/div[1]/div/div[2]/div[2]/div[2]/div[1]/div[2]/div[2]/div/label[1]/div/span/span[contains(text(),\"A.\")]')\n"
     ]
    }
   ],
   "source": [
    "rep = browser.find_element_by_xpath('/html/body/div[1]/div/div[2]/div[2]/div[2]/div[1]/div[2]/div[2]/div/label[1]/div/span/span[contains(text(),\"A.\")]')\n",
    "rep.click()\n",
    "time.sleep(3)\n"
   ]
  },
  {
   "cell_type": "code",
   "execution_count": 13,
   "metadata": {},
   "outputs": [
    {
     "name": "stderr",
     "output_type": "stream",
     "text": [
      "C:\\Users\\pierr\\AppData\\Local\\Temp\\ipykernel_15152\\1239749151.py:1: DeprecationWarning: find_element_by_* commands are deprecated. Please use find_element() instead\n",
      "  terminer = browser.find_element_by_xpath('/html/body/div[1]/div/div[3]/div/button')\n"
     ]
    }
   ],
   "source": [
    "terminer = browser.find_element_by_xpath('/html/body/div[1]/div/div[3]/div/button')\n",
    "terminer.click()\n",
    "time.sleep(3)"
   ]
  }
 ],
 "metadata": {
  "interpreter": {
   "hash": "07b51ff8ab918004df3cf8abbac216416d3d23ef272870dc0e45bb4438d3d6f2"
  },
  "kernelspec": {
   "display_name": "Python 3.9.10 64-bit (windows store)",
   "name": "python3"
  },
  "language_info": {
   "codemirror_mode": {
    "name": "ipython",
    "version": 3
   },
   "file_extension": ".py",
   "mimetype": "text/x-python",
   "name": "python",
   "nbconvert_exporter": "python",
   "pygments_lexer": "ipython3",
   "version": "3.9.10"
  },
  "orig_nbformat": 4
 },
 "nbformat": 4,
 "nbformat_minor": 2
}
