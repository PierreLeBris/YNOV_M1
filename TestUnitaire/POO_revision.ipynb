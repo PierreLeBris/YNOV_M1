{
 "cells": [
  {
   "cell_type": "markdown",
   "metadata": {},
   "source": [
    "# POO : les classes"
   ]
  },
  {
   "cell_type": "markdown",
   "metadata": {},
   "source": [
    "#### Introduction"
   ]
  },
  {
   "cell_type": "markdown",
   "metadata": {},
   "source": [
    "Python est un langage de programmation orienté objet.  \n",
    "On oppose souvent la programmation objet à la programmation procédurale , mais la première est plus \"professionnelle\" que l'autre car plus fiable et plus propre."
   ]
  },
  {
   "cell_type": "markdown",
   "metadata": {},
   "source": [
    "voici quelques liens qui traitent du sujet\n",
    "- [openclassroom](https://openclassrooms.com/fr/courses/235344-apprenez-a-programmer-en-python/232721-apprehendez-les-classes)\n",
    "- [python doctor](https://python.doctor/page-apprendre-programmation-orientee-objet-poo-classes-python-cours-debutants)\n",
    "- [python doc](https://docs.python.org/fr/3/tutorial/classes.html)\n",
    "- [modeles de données](https://docs.python.org/3/reference/datamodel.html)"
   ]
  },
  {
   "cell_type": "markdown",
   "metadata": {},
   "source": [
    "Il y a enormement de  facon de creer une architecture en POO.\n",
    "\n",
    "Je vous recommande de faire un tour sur [refactoring guru](https://refactoring.guru/fr/design-patterns/python) pour voir les differents patrons de conception  en python mais aussi dans la plupart des langages"
   ]
  },
  {
   "cell_type": "markdown",
   "metadata": {},
   "source": [
    "Comme le dit la [convention](https://www.python.org/dev/peps/pep-0008/#class-names) python le nom des classes doit etre CapWords pour respecter la pep8"
   ]
  },
  {
   "cell_type": "markdown",
   "metadata": {},
   "source": [
    "#### Partie 1"
   ]
  },
  {
   "cell_type": "markdown",
   "metadata": {},
   "source": [
    " Créez une classe Voiture qui aura pour attributs :\n",
    " - marque\n",
    " - couleur\n",
    " - annee"
   ]
  },
  {
   "cell_type": "code",
   "execution_count": 1,
   "metadata": {},
   "outputs": [],
   "source": [
    "import sys\n",
    "from datetime import date\n",
    "\n",
    "class Voiture:\n",
    "    def __init__(self,marque,couleur,annee,km=0):\n",
    "        self.marque = marque\n",
    "        self.couleur = couleur\n",
    "        self.annee = date.today()\n",
    "        self.km = km\n",
    "        self.etat = False\n",
    "\n",
    "    def demarrer(self):\n",
    "        if self.etat == False:\n",
    "            self.etat = True\n",
    "            print(\"Voiture démarrée\")\n",
    "        else:\n",
    "            print(\"Voiture déjà allumé\")\n",
    "\n",
    "    def arreter(self):\n",
    "        if self.etat == True:\n",
    "            self.etat = False\n",
    "            print(\"Voiture arrétée\")\n",
    "        else:\n",
    "            print(\"Voiture déjà arrétée\")\n",
    "\n",
    "    def rouler(self,km):\n",
    "        if self.etat == True:\n",
    "            self.km += km\n",
    "            print(\"La voiture a roulée : \")\n",
    "            print(self.km)\n",
    "        else:\n",
    "            print(\"Démarrer la Voiture Avant\")\n"
   ]
  },
  {
   "cell_type": "markdown",
   "metadata": {},
   "source": [
    "Ajoutez deux attributs à cette classe : km et etat  \n",
    "- partant du principe que la voiture sera forcément éteinte à la création l'attribut etat sera false par défaut  \n",
    "- les km s'ils ne sont pas spécifiés seront à 0  \n",
    "- faites en sorte que annee corresponde a l'année de la date réelle au moment de la création de l'objet\n",
    "- le reste des arguments devront continuer à être fournis obligatoirement\n",
    "\n",
    "Créez des methodes pour la classe Voiture :\n",
    "- **demarrer** :\n",
    "     qui change l'état de la voiture à True et renvoie un avertissement si elle est déjà démarrée.\n",
    "- **arreter** :\n",
    "    qui change l'état de voiture à False et renvoie un avertissement si elle est déjà éteinte.\n",
    "- **rouler** :\n",
    "    qui rajoute des kilomètres à l'attribut km si la voiture est démarrée sinon renvoie un avertissement."
   ]
  },
  {
   "cell_type": "code",
   "execution_count": 2,
   "metadata": {},
   "outputs": [
    {
     "name": "stdout",
     "output_type": "stream",
     "text": [
      "Mazda rouge 2022-02-11 0 False\n",
      "Voiture démarrée\n",
      "La voiture a roulée : \n",
      "10\n",
      "Voiture arrétée\n",
      "Démarrer la Voiture Avant\n"
     ]
    }
   ],
   "source": [
    "v = Voiture(\"Mazda\",\"rouge\",date)\n",
    "print(v.marque,v.couleur,v.annee,v.km,v.etat)\n",
    "v.demarrer()\n",
    "v.rouler(10)\n",
    "v.arreter()\n",
    "v.rouler(20)"
   ]
  },
  {
   "cell_type": "markdown",
   "metadata": {},
   "source": [
    " Créez une classe Humain, elle devra avoir comme attributs:\n",
    " - nom\n",
    " - age\n",
    " - voiture\n",
    " \n",
    "Et comme méthodes:\n",
    " - acquerir_voiture:\n",
    " pour acquerir une instance de voiture\n",
    " - demarrer_voiture\n",
    " il devra forcement posseder une voiture sinon un avertissement lui est renvoyé\n",
    " - arreter_voiture\n",
    " il devra forcement posseder une voiture sinon un avertissement lui est renvoyé"
   ]
  },
  {
   "cell_type": "code",
   "execution_count": 3,
   "metadata": {},
   "outputs": [],
   "source": [
    "import sys\n",
    "from datetime import date\n",
    "\n",
    "class Voiture:\n",
    "    def __init__(self,marque,couleur,annee,km=0):\n",
    "        self.marque = marque\n",
    "        self.couleur = couleur\n",
    "        self.annee = date.today()\n",
    "        self.km = km\n",
    "        self.etat = False\n",
    "\n",
    "    def demarrer(self):\n",
    "        if self.etat == False:\n",
    "            self.etat = True\n",
    "            print(\"Voiture démarrée\")\n",
    "        else:\n",
    "            print(\"Voiture déjà allumé\")\n",
    "\n",
    "    def arreter(self):\n",
    "        if self.etat == True:\n",
    "            self.etat = False\n",
    "            print(\"Voiture arrétée\")\n",
    "        else:\n",
    "            print(\"Voiture déjà arrétée\")\n",
    "\n",
    "    def rouler(self,km):\n",
    "        if self.etat == True:\n",
    "            self.km += km\n",
    "            print(\"La voiture a roulée : \")\n",
    "            print(self.km)\n",
    "        else:\n",
    "            print(\"Démarrer la Voiture Avant\")\n",
    "\n",
    "class Humain():\n",
    "    def __init__(self,nom,age):\n",
    "        self.nom = nom\n",
    "        self.age = age\n",
    "\n",
    "class Garage():\n",
    "    def __init__(self,proprietaire:Humain,vehicule,capacite=1):\n",
    "        self.proprietaire = proprietaire\n",
    "        self.vehicule = vehicule\n",
    "        self.capacite = capacite\n",
    "    \n",
    "    def place_disponible(self,capacite):\n",
    "        if self.capacite != 4:\n",
    "            print(\"Il y a de la place\")\n",
    "        else:\n",
    "            print(\"Pas de place\")"
   ]
  },
  {
   "cell_type": "markdown",
   "metadata": {},
   "source": [
    "Créez une classe Garage qui pourra contenir toutes les voitures d'un humain, elle devra avoir comme attributs:\n",
    "- proprietaire\n",
    "- vehicule\n",
    "- capacite\n",
    "\n",
    "Et comme méthode \n",
    "- place_disponible\n",
    "qui devra retourner True si le garage dispose de places libres et False si il est plein"
   ]
  },
  {
   "cell_type": "code",
   "execution_count": 4,
   "metadata": {},
   "outputs": [
    {
     "name": "stdout",
     "output_type": "stream",
     "text": [
      "Mazda rouge 2022-02-11 0 False\n",
      "Voiture démarrée\n",
      "La voiture a roulée : \n",
      "10\n",
      "Pierre 22 Mazda\n",
      "Pierre Mazda 3\n",
      "Il y a de la place\n"
     ]
    }
   ],
   "source": [
    "v = Voiture(\"Mazda\",\"rouge\",date)\n",
    "print(v.marque,v.couleur,v.annee,v.km,v.etat)\n",
    "v.demarrer()\n",
    "v.rouler(10)\n",
    "h = Humain(\"Pierre\",\"22\")\n",
    "print(h.nom,h.age,v.marque)\n",
    "g = Garage(h.nom,v.marque,[v])\n",
    "print(h.nom,v.marque,3)\n",
    "g.place_disponible(g.capacite)"
   ]
  },
  {
   "cell_type": "markdown",
   "metadata": {},
   "source": [
    "Ajoutez à la classe Humain les méthodes :\n",
    "- acquerir_garage\n",
    "qui devra assigner le garage à l'humain et modifier l'attribut proprietaire du gararge\n",
    "- deposer_garage\n",
    "qui devra tester si l'humain a une voiture, un garage et de la place"
   ]
  },
  {
   "cell_type": "code",
   "execution_count": 5,
   "metadata": {},
   "outputs": [],
   "source": [
    "class Humain():\n",
    "    def __init__(self,nom,age,acquerir_garage,deposer_garage):\n",
    "        self.nom = nom\n",
    "        self.age = age\n",
    "        self.acquerir_garage = acquerir_garage\n",
    "        self.deposer_garage = deposer_garage\n",
    "\n",
    "class Garage():\n",
    "    def __init__(self,proprietaire:Humain,vehicule,capacite=1):\n",
    "        self.proprietaire = proprietaire\n",
    "        self.vehicule = vehicule\n",
    "        self.capacite = capacite\n",
    "    \n",
    "    def place_disponible(self,capacite):\n",
    "        if self.capacite != 4:\n",
    "            print(\"Il y a de la place\")\n",
    "        else:\n",
    "            print(\"Pas de place\")"
   ]
  },
  {
   "cell_type": "markdown",
   "metadata": {},
   "source": [
    "#### Partie 2"
   ]
  },
  {
   "cell_type": "markdown",
   "metadata": {},
   "source": [
    "Concentrons nous sur la classe Garage.  \n",
    "Ajoutez les [methodes speciales](https://docs.python.org/3/reference/datamodel.html#special-method-names) suivantes :\n",
    "- __repr__ : devra retourner le proprietaire, le nombre de voiture, la capacité\n",
    "- __add__ : devra permettre d'ajouter une voiture avec l'opérateur \"+\" tant que la capacité n'est pas dépassée\n",
    "- __len__ : devra renvoyer le nombre de voitures à l'aide de la fonction len() sur l'instance\n",
    "- __getitem__ : devra permettre de récupérer une voiture selon son index et de retourner un avertissement si il n'y a pas de véhicule\n",
    "- __setitem__ : devra permettre de remplacer une voiture à un emplacement si il existe, sinon un avertissement.\n",
    "- __call__ : devra permettre de connaitre les voitures disponible ainsi que le nom du proprietaire"
   ]
  },
  {
   "cell_type": "code",
   "execution_count": null,
   "metadata": {},
   "outputs": [],
   "source": []
  },
  {
   "cell_type": "markdown",
   "metadata": {},
   "source": [
    "#### Partie 3"
   ]
  },
  {
   "cell_type": "markdown",
   "metadata": {},
   "source": [
    "voici l'une des potentielles classe voitures que vous aviez créé au précédent tp    \n",
    "créez une classe moto et faite en sorte que moto et voiture heritent tout deux   \n",
    "d'une classe nommée vehicule.  \n",
    "elle auront en commun comme attributs:\n",
    "- etat\n",
    "- marque\n",
    "- couleur\n",
    "- année\n",
    "- km"
   ]
  },
  {
   "cell_type": "markdown",
   "metadata": {},
   "source": [
    "elles auront de différent pour les deux :\n",
    "- le type (moto, voiture)\n",
    "- le nombre_roue\n",
    "- le nombre_de passsagers"
   ]
  },
  {
   "cell_type": "markdown",
   "metadata": {},
   "source": [
    "la voiture aura de facon exclusive \n",
    "- parcmètre_credit (attributs)\n",
    "- use_credit (methodes)"
   ]
  },
  {
   "cell_type": "code",
   "execution_count": null,
   "metadata": {},
   "outputs": [],
   "source": []
  },
  {
   "cell_type": "markdown",
   "metadata": {},
   "source": [
    "grâce aux propriétés (et au setter ...) faites en sorte que :\n",
    "- parcmètre_credit ne tombe jamais en dessous de 0\n",
    "- que cabrer ai une chance sur 10 de declencher un accident\n",
    "- le nombre_de passsagers ne puisse dépasser 2 pour la moto et 5 pour la voiture\n",
    "- et d'avoir un avertissement si on ne détache pas la moto avant de la démarrer"
   ]
  },
  {
   "cell_type": "code",
   "execution_count": null,
   "metadata": {},
   "outputs": [],
   "source": []
  },
  {
   "cell_type": "markdown",
   "metadata": {},
   "source": [
    "#### Bonnus"
   ]
  },
  {
   "cell_type": "markdown",
   "metadata": {},
   "source": [
    "\n",
    "- Je souhaite recenser le nombre d’instances créées par ma classe vehicule comment puis-je procéder ?"
   ]
  },
  {
   "cell_type": "code",
   "execution_count": null,
   "metadata": {},
   "outputs": [],
   "source": []
  }
 ],
 "metadata": {
  "kernelspec": {
   "display_name": "Python 3",
   "language": "python",
   "name": "python3"
  },
  "language_info": {
   "codemirror_mode": {
    "name": "ipython",
    "version": 3
   },
   "file_extension": ".py",
   "mimetype": "text/x-python",
   "name": "python",
   "nbconvert_exporter": "python",
   "pygments_lexer": "ipython3",
   "version": "3.9.9"
  },
  "varInspector": {
   "cols": {
    "lenName": 16,
    "lenType": 16,
    "lenVar": 40
   },
   "kernels_config": {
    "python": {
     "delete_cmd_postfix": "",
     "delete_cmd_prefix": "del ",
     "library": "var_list.py",
     "varRefreshCmd": "print(var_dic_list())"
    },
    "r": {
     "delete_cmd_postfix": ") ",
     "delete_cmd_prefix": "rm(",
     "library": "var_list.r",
     "varRefreshCmd": "cat(var_dic_list()) "
    }
   },
   "types_to_exclude": [
    "module",
    "function",
    "builtin_function_or_method",
    "instance",
    "_Feature"
   ],
   "window_display": false
  }
 },
 "nbformat": 4,
 "nbformat_minor": 2
}
