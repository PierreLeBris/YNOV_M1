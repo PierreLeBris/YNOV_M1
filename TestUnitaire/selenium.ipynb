{
 "cells": [
  {
   "cell_type": "markdown",
   "metadata": {},
   "source": [
    "# Selenium : Mets ton navigateur en mode automatique"
   ]
  },
  {
   "cell_type": "markdown",
   "metadata": {},
   "source": [
    "La doc : https://selenium-python.readthedocs.io/navigating.html<br>\n",
    "moins complète mais plus propre : http://akul.me/blog/2016/selenium-cheatsheet/ <br>\n",
    "Cheatsheet : http://allselenium.info/python-selenium-commands-cheat-sheet-frequently-used/<br>\n",
    "xpath Cheatsheet : https://devhints.io/xpath<br>\n"
   ]
  },
  {
   "cell_type": "code",
   "execution_count": null,
   "metadata": {},
   "outputs": [],
   "source": []
  },
  {
   "cell_type": "markdown",
   "metadata": {},
   "source": [
    "## Installation "
   ]
  },
  {
   "cell_type": "markdown",
   "metadata": {},
   "source": [
    "Avec Anaconda : ouvrir anaconda prompt et executer : \"conda install -c conda-forge selenium\" \\\n",
    "Avec le gestionnaire de package pip:  pip install selenium\n",
    "\n",
    "Télécharger webdriver: https://chromedriver.chromium.org/downloads . \\\n",
    "Rangez-le dans un dossier et rajoutez le path du fichier chromedriver.exe dans vos variables d'environnement système (puis redémarrer)."
   ]
  },
  {
   "cell_type": "code",
   "execution_count": 1,
   "metadata": {},
   "outputs": [],
   "source": [
    "# !pip install selenium"
   ]
  },
  {
   "cell_type": "code",
   "execution_count": 2,
   "metadata": {},
   "outputs": [],
   "source": [
    "import time\n",
    "from selenium import webdriver \n",
    "from selenium.webdriver.common.keys import Keys\n",
    "import pandas as pd"
   ]
  },
  {
   "cell_type": "markdown",
   "metadata": {},
   "source": [
    "## Connexion"
   ]
  },
  {
   "cell_type": "code",
   "execution_count": 3,
   "metadata": {},
   "outputs": [
    {
     "name": "stderr",
     "output_type": "stream",
     "text": [
      "C:\\Users\\pierr\\AppData\\Local\\Temp\\ipykernel_16400\\2607188868.py:2: DeprecationWarning: executable_path has been deprecated, please pass in a Service object\n",
      "  browser = webdriver.Chrome('D:\\YNOV_M1\\YNOV_M1\\TestUnitaire\\chromedriver')\n"
     ]
    }
   ],
   "source": [
    "#browser = webdriver.Chrome('chemin_vers_votre_chrome_driver')\n",
    "browser = webdriver.Chrome('D:\\YNOV_M1\\YNOV_M1\\TestUnitaire\\chromedriver')"
   ]
  },
  {
   "cell_type": "code",
   "execution_count": 4,
   "metadata": {},
   "outputs": [],
   "source": [
    "#vous pouvez trouver quelque methodes interessantes\n",
    "\n",
    "#page precedentes : browser.back()\n",
    "#fermer le navigateur : browser.close()\n",
    "#parametrer le temps maximun d attentes pour qu'un element s'affiche : browser.implicitly_wait()\n",
    "#..."
   ]
  },
  {
   "cell_type": "code",
   "execution_count": 5,
   "metadata": {},
   "outputs": [],
   "source": [
    "browser.get('https://auth.global-exam.com/sso/cas/ynov/4603')\n",
    "time.sleep(3)"
   ]
  },
  {
   "cell_type": "markdown",
   "metadata": {},
   "source": [
    "## Commandes principales"
   ]
  },
  {
   "cell_type": "markdown",
   "metadata": {},
   "source": [
    "##### Agrandir la fenêtre"
   ]
  },
  {
   "cell_type": "code",
   "execution_count": 6,
   "metadata": {},
   "outputs": [],
   "source": [
    "\n",
    "browser.maximize_window()\n",
    "time.sleep(2)"
   ]
  },
  {
   "cell_type": "code",
   "execution_count": 7,
   "metadata": {},
   "outputs": [
    {
     "name": "stderr",
     "output_type": "stream",
     "text": [
      "C:\\Users\\pierr\\AppData\\Local\\Temp\\ipykernel_16400\\873233693.py:1: DeprecationWarning: find_element_by_* commands are deprecated. Please use find_element() instead\n",
      "  username = browser.find_element_by_xpath('//*[@name=\"username\"]')\n"
     ]
    }
   ],
   "source": [
    "username = browser.find_element_by_xpath('//*[@name=\"username\"]')\n",
    "username.send_keys('pierre.lebris@ynov.com')\n",
    "time.sleep(3)"
   ]
  },
  {
   "cell_type": "code",
   "execution_count": 8,
   "metadata": {},
   "outputs": [
    {
     "name": "stderr",
     "output_type": "stream",
     "text": [
      "C:\\Users\\pierr\\AppData\\Local\\Temp\\ipykernel_16400\\2673362368.py:1: DeprecationWarning: find_element_by_* commands are deprecated. Please use find_element() instead\n",
      "  password = browser.find_element_by_xpath('//*[@name=\"password\"]')\n"
     ]
    }
   ],
   "source": [
    "password = browser.find_element_by_xpath('//*[@name=\"password\"]')\n",
    "password.send_keys('Dx.Hawk77850')\n",
    "time.sleep(6)"
   ]
  },
  {
   "cell_type": "code",
   "execution_count": 9,
   "metadata": {},
   "outputs": [
    {
     "name": "stderr",
     "output_type": "stream",
     "text": [
      "C:\\Users\\pierr\\AppData\\Local\\Temp\\ipykernel_16400\\3132550752.py:1: DeprecationWarning: find_element_by_* commands are deprecated. Please use find_element() instead\n",
      "  connect = browser.find_element_by_xpath('//*[@name=\"submit\"]')\n"
     ]
    }
   ],
   "source": [
    "connect = browser.find_element_by_xpath('//*[@name=\"submit\"]')\n",
    "connect.click()\n",
    "time.sleep(3)"
   ]
  },
  {
   "cell_type": "code",
   "execution_count": 10,
   "metadata": {},
   "outputs": [
    {
     "name": "stderr",
     "output_type": "stream",
     "text": [
      "C:\\Users\\pierr\\AppData\\Local\\Temp\\ipykernel_16400\\3926827838.py:1: DeprecationWarning: find_element_by_* commands are deprecated. Please use find_element() instead\n",
      "  exercice = browser.find_element_by_xpath('//*[@href=\"https://exam.global-exam.com/user-plannings/587372\"]')\n"
     ]
    }
   ],
   "source": [
    "exercice = browser.find_element_by_xpath('//*[@href=\"https://exam.global-exam.com/user-plannings/587372\"]')\n",
    "exercice.click()\n",
    "time.sleep(3)"
   ]
  },
  {
   "cell_type": "code",
   "execution_count": 11,
   "metadata": {},
   "outputs": [
    {
     "name": "stderr",
     "output_type": "stream",
     "text": [
      "C:\\Users\\pierr\\AppData\\Local\\Temp\\ipykernel_16400\\62283393.py:1: DeprecationWarning: find_element_by_* commands are deprecated. Please use find_element() instead\n",
      "  lauch = browser.find_element_by_xpath('/html/body/div[1]/main/div/div/div/div[2]/div[1]/div[2]/button[2]/p[contains(text(),\"Partie 1 - Photographies\")]')\n"
     ]
    }
   ],
   "source": [
    "lauch = browser.find_element_by_xpath('/html/body/div[1]/main/div/div/div/div[2]/div[1]/div[2]/button[2]/p[contains(text(),\"Partie 1 - Photographies\")]')\n",
    "lauch.click()\n",
    "time.sleep(3)"
   ]
  },
  {
   "cell_type": "code",
   "execution_count": 12,
   "metadata": {},
   "outputs": [
    {
     "name": "stderr",
     "output_type": "stream",
     "text": [
      "C:\\Users\\pierr\\AppData\\Local\\Temp\\ipykernel_16400\\299177245.py:1: DeprecationWarning: find_element_by_* commands are deprecated. Please use find_element() instead\n",
      "  dem = browser.find_element_by_xpath('/html/body/div[1]/div[1]/main/div/div/div[2]/button[contains(text(),\"Démarrer\")]')\n"
     ]
    }
   ],
   "source": [
    "\n",
    "dem = browser.find_element_by_xpath('/html/body/div[1]/div[1]/main/div/div/div[2]/button[contains(text(),\"Démarrer\")]')\n",
    "dem.click()\n",
    "time.sleep(3)"
   ]
  },
  {
   "cell_type": "markdown",
   "metadata": {},
   "source": [
    "##### Récupérer un élément et cliquer dessus"
   ]
  },
  {
   "cell_type": "code",
   "execution_count": 13,
   "metadata": {},
   "outputs": [
    {
     "name": "stderr",
     "output_type": "stream",
     "text": [
      "C:\\Users\\pierr\\AppData\\Local\\Temp\\ipykernel_16400\\1714589174.py:2: DeprecationWarning: find_element_by_* commands are deprecated. Please use find_element() instead\n",
      "  cookies = browser.find_element_by_xpath('//*[@id=\"sp-cc-accept\"]')\n"
     ]
    },
    {
     "ename": "NoSuchElementException",
     "evalue": "Message: no such element: Unable to locate element: {\"method\":\"xpath\",\"selector\":\"//*[@id=\"sp-cc-accept\"]\"}\n  (Session info: chrome=98.0.4758.102)\nStacktrace:\nBacktrace:\n\tOrdinal0 [0x00CC69A3+2582947]\n\tOrdinal0 [0x00C5A6D1+2139857]\n\tOrdinal0 [0x00B53A98+1063576]\n\tOrdinal0 [0x00B7FF3E+1244990]\n\tOrdinal0 [0x00B8013B+1245499]\n\tOrdinal0 [0x00BA9F52+1417042]\n\tOrdinal0 [0x00B98594+1344916]\n\tOrdinal0 [0x00BA834A+1409866]\n\tOrdinal0 [0x00B98366+1344358]\n\tOrdinal0 [0x00B75176+1200502]\n\tOrdinal0 [0x00B76066+1204326]\n\tGetHandleVerifier [0x00E6BE02+1675858]\n\tGetHandleVerifier [0x00F2036C+2414524]\n\tGetHandleVerifier [0x00D5BB01+560977]\n\tGetHandleVerifier [0x00D5A8D3+556323]\n\tOrdinal0 [0x00C6020E+2163214]\n\tOrdinal0 [0x00C65078+2183288]\n\tOrdinal0 [0x00C651C0+2183616]\n\tOrdinal0 [0x00C6EE1C+2223644]\n\tBaseThreadInitThunk [0x765EFA29+25]\n\tRtlGetAppContainerNamedObjectPath [0x77237A9E+286]\n\tRtlGetAppContainerNamedObjectPath [0x77237A6E+238]\n",
     "output_type": "error",
     "traceback": [
      "\u001b[1;31m---------------------------------------------------------------------------\u001b[0m",
      "\u001b[1;31mNoSuchElementException\u001b[0m                    Traceback (most recent call last)",
      "\u001b[1;32md:\\YNOV_M1\\YNOV_M1\\TestUnitaire\\selenium.ipynb Cell 22'\u001b[0m in \u001b[0;36m<module>\u001b[1;34m\u001b[0m\n\u001b[0;32m      <a href='vscode-notebook-cell:/d%3A/YNOV_M1/YNOV_M1/TestUnitaire/selenium.ipynb#ch0000015?line=0'>1</a>\u001b[0m \u001b[39m# Banniere \u001b[39;00m\n\u001b[1;32m----> <a href='vscode-notebook-cell:/d%3A/YNOV_M1/YNOV_M1/TestUnitaire/selenium.ipynb#ch0000015?line=1'>2</a>\u001b[0m cookies \u001b[39m=\u001b[39m browser\u001b[39m.\u001b[39;49mfind_element_by_xpath(\u001b[39m'\u001b[39;49m\u001b[39m//*[@id=\u001b[39;49m\u001b[39m\"\u001b[39;49m\u001b[39msp-cc-accept\u001b[39;49m\u001b[39m\"\u001b[39;49m\u001b[39m]\u001b[39;49m\u001b[39m'\u001b[39;49m)\n\u001b[0;32m      <a href='vscode-notebook-cell:/d%3A/YNOV_M1/YNOV_M1/TestUnitaire/selenium.ipynb#ch0000015?line=2'>3</a>\u001b[0m cookies\u001b[39m.\u001b[39mclick()\n\u001b[0;32m      <a href='vscode-notebook-cell:/d%3A/YNOV_M1/YNOV_M1/TestUnitaire/selenium.ipynb#ch0000015?line=3'>4</a>\u001b[0m time\u001b[39m.\u001b[39msleep(\u001b[39m3\u001b[39m)\n",
      "File \u001b[1;32m~\\AppData\\Local\\Programs\\Python\\Python39\\lib\\site-packages\\selenium\\webdriver\\remote\\webdriver.py:520\u001b[0m, in \u001b[0;36mWebDriver.find_element_by_xpath\u001b[1;34m(self, xpath)\u001b[0m\n\u001b[0;32m    <a href='file:///~/AppData/Local/Programs/Python/Python39/lib/site-packages/selenium/webdriver/remote/webdriver.py?line=497'>498</a>\u001b[0m \u001b[39m\"\"\"\u001b[39;00m\n\u001b[0;32m    <a href='file:///~/AppData/Local/Programs/Python/Python39/lib/site-packages/selenium/webdriver/remote/webdriver.py?line=498'>499</a>\u001b[0m \u001b[39mFinds an element by xpath.\u001b[39;00m\n\u001b[0;32m    <a href='file:///~/AppData/Local/Programs/Python/Python39/lib/site-packages/selenium/webdriver/remote/webdriver.py?line=499'>500</a>\u001b[0m \n\u001b[1;32m   (...)\u001b[0m\n\u001b[0;32m    <a href='file:///~/AppData/Local/Programs/Python/Python39/lib/site-packages/selenium/webdriver/remote/webdriver.py?line=512'>513</a>\u001b[0m \u001b[39m        element = driver.find_element_by_xpath('//div/td[1]')\u001b[39;00m\n\u001b[0;32m    <a href='file:///~/AppData/Local/Programs/Python/Python39/lib/site-packages/selenium/webdriver/remote/webdriver.py?line=513'>514</a>\u001b[0m \u001b[39m\"\"\"\u001b[39;00m\n\u001b[0;32m    <a href='file:///~/AppData/Local/Programs/Python/Python39/lib/site-packages/selenium/webdriver/remote/webdriver.py?line=514'>515</a>\u001b[0m warnings\u001b[39m.\u001b[39mwarn(\n\u001b[0;32m    <a href='file:///~/AppData/Local/Programs/Python/Python39/lib/site-packages/selenium/webdriver/remote/webdriver.py?line=515'>516</a>\u001b[0m     \u001b[39m\"\u001b[39m\u001b[39mfind_element_by_* commands are deprecated. Please use find_element() instead\u001b[39m\u001b[39m\"\u001b[39m,\n\u001b[0;32m    <a href='file:///~/AppData/Local/Programs/Python/Python39/lib/site-packages/selenium/webdriver/remote/webdriver.py?line=516'>517</a>\u001b[0m     \u001b[39mDeprecationWarning\u001b[39;00m,\n\u001b[0;32m    <a href='file:///~/AppData/Local/Programs/Python/Python39/lib/site-packages/selenium/webdriver/remote/webdriver.py?line=517'>518</a>\u001b[0m     stacklevel\u001b[39m=\u001b[39m\u001b[39m2\u001b[39m,\n\u001b[0;32m    <a href='file:///~/AppData/Local/Programs/Python/Python39/lib/site-packages/selenium/webdriver/remote/webdriver.py?line=518'>519</a>\u001b[0m )\n\u001b[1;32m--> <a href='file:///~/AppData/Local/Programs/Python/Python39/lib/site-packages/selenium/webdriver/remote/webdriver.py?line=519'>520</a>\u001b[0m \u001b[39mreturn\u001b[39;00m \u001b[39mself\u001b[39;49m\u001b[39m.\u001b[39;49mfind_element(by\u001b[39m=\u001b[39;49mBy\u001b[39m.\u001b[39;49mXPATH, value\u001b[39m=\u001b[39;49mxpath)\n",
      "File \u001b[1;32m~\\AppData\\Local\\Programs\\Python\\Python39\\lib\\site-packages\\selenium\\webdriver\\remote\\webdriver.py:1244\u001b[0m, in \u001b[0;36mWebDriver.find_element\u001b[1;34m(self, by, value)\u001b[0m\n\u001b[0;32m   <a href='file:///~/AppData/Local/Programs/Python/Python39/lib/site-packages/selenium/webdriver/remote/webdriver.py?line=1240'>1241</a>\u001b[0m     by \u001b[39m=\u001b[39m By\u001b[39m.\u001b[39mCSS_SELECTOR\n\u001b[0;32m   <a href='file:///~/AppData/Local/Programs/Python/Python39/lib/site-packages/selenium/webdriver/remote/webdriver.py?line=1241'>1242</a>\u001b[0m     value \u001b[39m=\u001b[39m \u001b[39m'\u001b[39m\u001b[39m[name=\u001b[39m\u001b[39m\"\u001b[39m\u001b[39m%s\u001b[39;00m\u001b[39m\"\u001b[39m\u001b[39m]\u001b[39m\u001b[39m'\u001b[39m \u001b[39m%\u001b[39m value\n\u001b[1;32m-> <a href='file:///~/AppData/Local/Programs/Python/Python39/lib/site-packages/selenium/webdriver/remote/webdriver.py?line=1243'>1244</a>\u001b[0m \u001b[39mreturn\u001b[39;00m \u001b[39mself\u001b[39;49m\u001b[39m.\u001b[39;49mexecute(Command\u001b[39m.\u001b[39;49mFIND_ELEMENT, {\n\u001b[0;32m   <a href='file:///~/AppData/Local/Programs/Python/Python39/lib/site-packages/selenium/webdriver/remote/webdriver.py?line=1244'>1245</a>\u001b[0m     \u001b[39m'\u001b[39;49m\u001b[39musing\u001b[39;49m\u001b[39m'\u001b[39;49m: by,\n\u001b[0;32m   <a href='file:///~/AppData/Local/Programs/Python/Python39/lib/site-packages/selenium/webdriver/remote/webdriver.py?line=1245'>1246</a>\u001b[0m     \u001b[39m'\u001b[39;49m\u001b[39mvalue\u001b[39;49m\u001b[39m'\u001b[39;49m: value})[\u001b[39m'\u001b[39m\u001b[39mvalue\u001b[39m\u001b[39m'\u001b[39m]\n",
      "File \u001b[1;32m~\\AppData\\Local\\Programs\\Python\\Python39\\lib\\site-packages\\selenium\\webdriver\\remote\\webdriver.py:424\u001b[0m, in \u001b[0;36mWebDriver.execute\u001b[1;34m(self, driver_command, params)\u001b[0m\n\u001b[0;32m    <a href='file:///~/AppData/Local/Programs/Python/Python39/lib/site-packages/selenium/webdriver/remote/webdriver.py?line=421'>422</a>\u001b[0m response \u001b[39m=\u001b[39m \u001b[39mself\u001b[39m\u001b[39m.\u001b[39mcommand_executor\u001b[39m.\u001b[39mexecute(driver_command, params)\n\u001b[0;32m    <a href='file:///~/AppData/Local/Programs/Python/Python39/lib/site-packages/selenium/webdriver/remote/webdriver.py?line=422'>423</a>\u001b[0m \u001b[39mif\u001b[39;00m response:\n\u001b[1;32m--> <a href='file:///~/AppData/Local/Programs/Python/Python39/lib/site-packages/selenium/webdriver/remote/webdriver.py?line=423'>424</a>\u001b[0m     \u001b[39mself\u001b[39;49m\u001b[39m.\u001b[39;49merror_handler\u001b[39m.\u001b[39;49mcheck_response(response)\n\u001b[0;32m    <a href='file:///~/AppData/Local/Programs/Python/Python39/lib/site-packages/selenium/webdriver/remote/webdriver.py?line=424'>425</a>\u001b[0m     response[\u001b[39m'\u001b[39m\u001b[39mvalue\u001b[39m\u001b[39m'\u001b[39m] \u001b[39m=\u001b[39m \u001b[39mself\u001b[39m\u001b[39m.\u001b[39m_unwrap_value(\n\u001b[0;32m    <a href='file:///~/AppData/Local/Programs/Python/Python39/lib/site-packages/selenium/webdriver/remote/webdriver.py?line=425'>426</a>\u001b[0m         response\u001b[39m.\u001b[39mget(\u001b[39m'\u001b[39m\u001b[39mvalue\u001b[39m\u001b[39m'\u001b[39m, \u001b[39mNone\u001b[39;00m))\n\u001b[0;32m    <a href='file:///~/AppData/Local/Programs/Python/Python39/lib/site-packages/selenium/webdriver/remote/webdriver.py?line=426'>427</a>\u001b[0m     \u001b[39mreturn\u001b[39;00m response\n",
      "File \u001b[1;32m~\\AppData\\Local\\Programs\\Python\\Python39\\lib\\site-packages\\selenium\\webdriver\\remote\\errorhandler.py:247\u001b[0m, in \u001b[0;36mErrorHandler.check_response\u001b[1;34m(self, response)\u001b[0m\n\u001b[0;32m    <a href='file:///~/AppData/Local/Programs/Python/Python39/lib/site-packages/selenium/webdriver/remote/errorhandler.py?line=244'>245</a>\u001b[0m         alert_text \u001b[39m=\u001b[39m value[\u001b[39m'\u001b[39m\u001b[39malert\u001b[39m\u001b[39m'\u001b[39m]\u001b[39m.\u001b[39mget(\u001b[39m'\u001b[39m\u001b[39mtext\u001b[39m\u001b[39m'\u001b[39m)\n\u001b[0;32m    <a href='file:///~/AppData/Local/Programs/Python/Python39/lib/site-packages/selenium/webdriver/remote/errorhandler.py?line=245'>246</a>\u001b[0m     \u001b[39mraise\u001b[39;00m exception_class(message, screen, stacktrace, alert_text)  \u001b[39m# type: ignore[call-arg]  # mypy is not smart enough here\u001b[39;00m\n\u001b[1;32m--> <a href='file:///~/AppData/Local/Programs/Python/Python39/lib/site-packages/selenium/webdriver/remote/errorhandler.py?line=246'>247</a>\u001b[0m \u001b[39mraise\u001b[39;00m exception_class(message, screen, stacktrace)\n",
      "\u001b[1;31mNoSuchElementException\u001b[0m: Message: no such element: Unable to locate element: {\"method\":\"xpath\",\"selector\":\"//*[@id=\"sp-cc-accept\"]\"}\n  (Session info: chrome=98.0.4758.102)\nStacktrace:\nBacktrace:\n\tOrdinal0 [0x00CC69A3+2582947]\n\tOrdinal0 [0x00C5A6D1+2139857]\n\tOrdinal0 [0x00B53A98+1063576]\n\tOrdinal0 [0x00B7FF3E+1244990]\n\tOrdinal0 [0x00B8013B+1245499]\n\tOrdinal0 [0x00BA9F52+1417042]\n\tOrdinal0 [0x00B98594+1344916]\n\tOrdinal0 [0x00BA834A+1409866]\n\tOrdinal0 [0x00B98366+1344358]\n\tOrdinal0 [0x00B75176+1200502]\n\tOrdinal0 [0x00B76066+1204326]\n\tGetHandleVerifier [0x00E6BE02+1675858]\n\tGetHandleVerifier [0x00F2036C+2414524]\n\tGetHandleVerifier [0x00D5BB01+560977]\n\tGetHandleVerifier [0x00D5A8D3+556323]\n\tOrdinal0 [0x00C6020E+2163214]\n\tOrdinal0 [0x00C65078+2183288]\n\tOrdinal0 [0x00C651C0+2183616]\n\tOrdinal0 [0x00C6EE1C+2223644]\n\tBaseThreadInitThunk [0x765EFA29+25]\n\tRtlGetAppContainerNamedObjectPath [0x77237A9E+286]\n\tRtlGetAppContainerNamedObjectPath [0x77237A6E+238]\n"
     ]
    }
   ],
   "source": [
    "# Banniere \n",
    "cookies = browser.find_element_by_xpath('//*[@id=\"sp-cc-accept\"]')\n",
    "cookies.click()\n",
    "time.sleep(3)"
   ]
  },
  {
   "cell_type": "code",
   "execution_count": null,
   "metadata": {},
   "outputs": [
    {
     "name": "stderr",
     "output_type": "stream",
     "text": [
      "C:\\Users\\pierr\\AppData\\Local\\Temp\\ipykernel_6392\\825375738.py:2: DeprecationWarning: find_element_by_* commands are deprecated. Please use find_element() instead\n",
      "  best = browser.find_element_by_xpath('//*[@data-csa-c-slot-id=\"nav_cs_0\"]')\n"
     ]
    }
   ],
   "source": [
    "# Meilleur vente menu\n",
    "best = browser.find_element_by_xpath('//*[@data-csa-c-slot-id=\"nav_cs_0\"]')\n",
    "best.click()\n",
    "time.sleep(1)"
   ]
  },
  {
   "cell_type": "code",
   "execution_count": null,
   "metadata": {},
   "outputs": [
    {
     "name": "stderr",
     "output_type": "stream",
     "text": [
      "C:\\Users\\pierr\\AppData\\Local\\Temp\\ipykernel_6392\\2324353341.py:1: DeprecationWarning: find_element_by_* commands are deprecated. Please use find_element() instead\n",
      "  auto = browser.find_element_by_xpath('//*[@href=\"/gp/bestsellers/automotive/ref=zg_bs_nav_0\"]')\n"
     ]
    }
   ],
   "source": [
    "auto = browser.find_element_by_xpath('//*[@href=\"/gp/bestsellers/automotive/ref=zg_bs_nav_0\"]')\n",
    "auto.click()\n",
    "time.sleep(1)"
   ]
  },
  {
   "cell_type": "code",
   "execution_count": null,
   "metadata": {},
   "outputs": [
    {
     "name": "stderr",
     "output_type": "stream",
     "text": [
      "C:\\Users\\pierr\\AppData\\Local\\Temp\\ipykernel_6392\\2468138597.py:1: DeprecationWarning: find_element_by_* commands are deprecated. Please use find_element() instead\n",
      "  sneakers = browser.find_element_by_xpath(\"/html/body/div[4]/div/div/div/div[7]/div/div[1]/div/ul/li/ul/li[1]/a/span\")\n"
     ]
    },
    {
     "ename": "NoSuchElementException",
     "evalue": "Message: no such element: Unable to locate element: {\"method\":\"xpath\",\"selector\":\"/html/body/div[4]/div/div/div/div[7]/div/div[1]/div/ul/li/ul/li[1]/a/span\"}\n  (Session info: chrome=98.0.4758.102)\nStacktrace:\nBacktrace:\n\tOrdinal0 [0x00CC69A3+2582947]\n\tOrdinal0 [0x00C5A6D1+2139857]\n\tOrdinal0 [0x00B53A98+1063576]\n\tOrdinal0 [0x00B7FF3E+1244990]\n\tOrdinal0 [0x00B8013B+1245499]\n\tOrdinal0 [0x00BA9F52+1417042]\n\tOrdinal0 [0x00B98594+1344916]\n\tOrdinal0 [0x00BA834A+1409866]\n\tOrdinal0 [0x00B98366+1344358]\n\tOrdinal0 [0x00B75176+1200502]\n\tOrdinal0 [0x00B76066+1204326]\n\tGetHandleVerifier [0x00E6BE02+1675858]\n\tGetHandleVerifier [0x00F2036C+2414524]\n\tGetHandleVerifier [0x00D5BB01+560977]\n\tGetHandleVerifier [0x00D5A8D3+556323]\n\tOrdinal0 [0x00C6020E+2163214]\n\tOrdinal0 [0x00C65078+2183288]\n\tOrdinal0 [0x00C651C0+2183616]\n\tOrdinal0 [0x00C6EE1C+2223644]\n\tBaseThreadInitThunk [0x765EFA29+25]\n\tRtlGetAppContainerNamedObjectPath [0x77237A9E+286]\n\tRtlGetAppContainerNamedObjectPath [0x77237A6E+238]\n",
     "output_type": "error",
     "traceback": [
      "\u001b[1;31m---------------------------------------------------------------------------\u001b[0m",
      "\u001b[1;31mNoSuchElementException\u001b[0m                    Traceback (most recent call last)",
      "\u001b[1;32md:\\YNOV_M1\\YNOV_M1\\TestUnitaire\\selenium.ipynb Cell 19'\u001b[0m in \u001b[0;36m<module>\u001b[1;34m\u001b[0m\n\u001b[1;32m----> <a href='vscode-notebook-cell:/d%3A/YNOV_M1/YNOV_M1/TestUnitaire/selenium.ipynb#ch0000018?line=0'>1</a>\u001b[0m sneakers \u001b[39m=\u001b[39m browser\u001b[39m.\u001b[39;49mfind_element_by_xpath(\u001b[39m\"\u001b[39;49m\u001b[39m/html/body/div[4]/div/div/div/div[7]/div/div[1]/div/ul/li/ul/li[1]/a/span\u001b[39;49m\u001b[39m\"\u001b[39;49m)\n\u001b[0;32m      <a href='vscode-notebook-cell:/d%3A/YNOV_M1/YNOV_M1/TestUnitaire/selenium.ipynb#ch0000018?line=1'>2</a>\u001b[0m sneakers\u001b[39m.\u001b[39mclick()\n\u001b[0;32m      <a href='vscode-notebook-cell:/d%3A/YNOV_M1/YNOV_M1/TestUnitaire/selenium.ipynb#ch0000018?line=2'>3</a>\u001b[0m time\u001b[39m.\u001b[39msleep(\u001b[39m2\u001b[39m)\n",
      "File \u001b[1;32m~\\AppData\\Local\\Programs\\Python\\Python39\\lib\\site-packages\\selenium\\webdriver\\remote\\webdriver.py:520\u001b[0m, in \u001b[0;36mWebDriver.find_element_by_xpath\u001b[1;34m(self, xpath)\u001b[0m\n\u001b[0;32m    <a href='file:///~/AppData/Local/Programs/Python/Python39/lib/site-packages/selenium/webdriver/remote/webdriver.py?line=497'>498</a>\u001b[0m \u001b[39m\"\"\"\u001b[39;00m\n\u001b[0;32m    <a href='file:///~/AppData/Local/Programs/Python/Python39/lib/site-packages/selenium/webdriver/remote/webdriver.py?line=498'>499</a>\u001b[0m \u001b[39mFinds an element by xpath.\u001b[39;00m\n\u001b[0;32m    <a href='file:///~/AppData/Local/Programs/Python/Python39/lib/site-packages/selenium/webdriver/remote/webdriver.py?line=499'>500</a>\u001b[0m \n\u001b[1;32m   (...)\u001b[0m\n\u001b[0;32m    <a href='file:///~/AppData/Local/Programs/Python/Python39/lib/site-packages/selenium/webdriver/remote/webdriver.py?line=512'>513</a>\u001b[0m \u001b[39m        element = driver.find_element_by_xpath('//div/td[1]')\u001b[39;00m\n\u001b[0;32m    <a href='file:///~/AppData/Local/Programs/Python/Python39/lib/site-packages/selenium/webdriver/remote/webdriver.py?line=513'>514</a>\u001b[0m \u001b[39m\"\"\"\u001b[39;00m\n\u001b[0;32m    <a href='file:///~/AppData/Local/Programs/Python/Python39/lib/site-packages/selenium/webdriver/remote/webdriver.py?line=514'>515</a>\u001b[0m warnings\u001b[39m.\u001b[39mwarn(\n\u001b[0;32m    <a href='file:///~/AppData/Local/Programs/Python/Python39/lib/site-packages/selenium/webdriver/remote/webdriver.py?line=515'>516</a>\u001b[0m     \u001b[39m\"\u001b[39m\u001b[39mfind_element_by_* commands are deprecated. Please use find_element() instead\u001b[39m\u001b[39m\"\u001b[39m,\n\u001b[0;32m    <a href='file:///~/AppData/Local/Programs/Python/Python39/lib/site-packages/selenium/webdriver/remote/webdriver.py?line=516'>517</a>\u001b[0m     \u001b[39mDeprecationWarning\u001b[39;00m,\n\u001b[0;32m    <a href='file:///~/AppData/Local/Programs/Python/Python39/lib/site-packages/selenium/webdriver/remote/webdriver.py?line=517'>518</a>\u001b[0m     stacklevel\u001b[39m=\u001b[39m\u001b[39m2\u001b[39m,\n\u001b[0;32m    <a href='file:///~/AppData/Local/Programs/Python/Python39/lib/site-packages/selenium/webdriver/remote/webdriver.py?line=518'>519</a>\u001b[0m )\n\u001b[1;32m--> <a href='file:///~/AppData/Local/Programs/Python/Python39/lib/site-packages/selenium/webdriver/remote/webdriver.py?line=519'>520</a>\u001b[0m \u001b[39mreturn\u001b[39;00m \u001b[39mself\u001b[39;49m\u001b[39m.\u001b[39;49mfind_element(by\u001b[39m=\u001b[39;49mBy\u001b[39m.\u001b[39;49mXPATH, value\u001b[39m=\u001b[39;49mxpath)\n",
      "File \u001b[1;32m~\\AppData\\Local\\Programs\\Python\\Python39\\lib\\site-packages\\selenium\\webdriver\\remote\\webdriver.py:1244\u001b[0m, in \u001b[0;36mWebDriver.find_element\u001b[1;34m(self, by, value)\u001b[0m\n\u001b[0;32m   <a href='file:///~/AppData/Local/Programs/Python/Python39/lib/site-packages/selenium/webdriver/remote/webdriver.py?line=1240'>1241</a>\u001b[0m     by \u001b[39m=\u001b[39m By\u001b[39m.\u001b[39mCSS_SELECTOR\n\u001b[0;32m   <a href='file:///~/AppData/Local/Programs/Python/Python39/lib/site-packages/selenium/webdriver/remote/webdriver.py?line=1241'>1242</a>\u001b[0m     value \u001b[39m=\u001b[39m \u001b[39m'\u001b[39m\u001b[39m[name=\u001b[39m\u001b[39m\"\u001b[39m\u001b[39m%s\u001b[39;00m\u001b[39m\"\u001b[39m\u001b[39m]\u001b[39m\u001b[39m'\u001b[39m \u001b[39m%\u001b[39m value\n\u001b[1;32m-> <a href='file:///~/AppData/Local/Programs/Python/Python39/lib/site-packages/selenium/webdriver/remote/webdriver.py?line=1243'>1244</a>\u001b[0m \u001b[39mreturn\u001b[39;00m \u001b[39mself\u001b[39;49m\u001b[39m.\u001b[39;49mexecute(Command\u001b[39m.\u001b[39;49mFIND_ELEMENT, {\n\u001b[0;32m   <a href='file:///~/AppData/Local/Programs/Python/Python39/lib/site-packages/selenium/webdriver/remote/webdriver.py?line=1244'>1245</a>\u001b[0m     \u001b[39m'\u001b[39;49m\u001b[39musing\u001b[39;49m\u001b[39m'\u001b[39;49m: by,\n\u001b[0;32m   <a href='file:///~/AppData/Local/Programs/Python/Python39/lib/site-packages/selenium/webdriver/remote/webdriver.py?line=1245'>1246</a>\u001b[0m     \u001b[39m'\u001b[39;49m\u001b[39mvalue\u001b[39;49m\u001b[39m'\u001b[39;49m: value})[\u001b[39m'\u001b[39m\u001b[39mvalue\u001b[39m\u001b[39m'\u001b[39m]\n",
      "File \u001b[1;32m~\\AppData\\Local\\Programs\\Python\\Python39\\lib\\site-packages\\selenium\\webdriver\\remote\\webdriver.py:424\u001b[0m, in \u001b[0;36mWebDriver.execute\u001b[1;34m(self, driver_command, params)\u001b[0m\n\u001b[0;32m    <a href='file:///~/AppData/Local/Programs/Python/Python39/lib/site-packages/selenium/webdriver/remote/webdriver.py?line=421'>422</a>\u001b[0m response \u001b[39m=\u001b[39m \u001b[39mself\u001b[39m\u001b[39m.\u001b[39mcommand_executor\u001b[39m.\u001b[39mexecute(driver_command, params)\n\u001b[0;32m    <a href='file:///~/AppData/Local/Programs/Python/Python39/lib/site-packages/selenium/webdriver/remote/webdriver.py?line=422'>423</a>\u001b[0m \u001b[39mif\u001b[39;00m response:\n\u001b[1;32m--> <a href='file:///~/AppData/Local/Programs/Python/Python39/lib/site-packages/selenium/webdriver/remote/webdriver.py?line=423'>424</a>\u001b[0m     \u001b[39mself\u001b[39;49m\u001b[39m.\u001b[39;49merror_handler\u001b[39m.\u001b[39;49mcheck_response(response)\n\u001b[0;32m    <a href='file:///~/AppData/Local/Programs/Python/Python39/lib/site-packages/selenium/webdriver/remote/webdriver.py?line=424'>425</a>\u001b[0m     response[\u001b[39m'\u001b[39m\u001b[39mvalue\u001b[39m\u001b[39m'\u001b[39m] \u001b[39m=\u001b[39m \u001b[39mself\u001b[39m\u001b[39m.\u001b[39m_unwrap_value(\n\u001b[0;32m    <a href='file:///~/AppData/Local/Programs/Python/Python39/lib/site-packages/selenium/webdriver/remote/webdriver.py?line=425'>426</a>\u001b[0m         response\u001b[39m.\u001b[39mget(\u001b[39m'\u001b[39m\u001b[39mvalue\u001b[39m\u001b[39m'\u001b[39m, \u001b[39mNone\u001b[39;00m))\n\u001b[0;32m    <a href='file:///~/AppData/Local/Programs/Python/Python39/lib/site-packages/selenium/webdriver/remote/webdriver.py?line=426'>427</a>\u001b[0m     \u001b[39mreturn\u001b[39;00m response\n",
      "File \u001b[1;32m~\\AppData\\Local\\Programs\\Python\\Python39\\lib\\site-packages\\selenium\\webdriver\\remote\\errorhandler.py:247\u001b[0m, in \u001b[0;36mErrorHandler.check_response\u001b[1;34m(self, response)\u001b[0m\n\u001b[0;32m    <a href='file:///~/AppData/Local/Programs/Python/Python39/lib/site-packages/selenium/webdriver/remote/errorhandler.py?line=244'>245</a>\u001b[0m         alert_text \u001b[39m=\u001b[39m value[\u001b[39m'\u001b[39m\u001b[39malert\u001b[39m\u001b[39m'\u001b[39m]\u001b[39m.\u001b[39mget(\u001b[39m'\u001b[39m\u001b[39mtext\u001b[39m\u001b[39m'\u001b[39m)\n\u001b[0;32m    <a href='file:///~/AppData/Local/Programs/Python/Python39/lib/site-packages/selenium/webdriver/remote/errorhandler.py?line=245'>246</a>\u001b[0m     \u001b[39mraise\u001b[39;00m exception_class(message, screen, stacktrace, alert_text)  \u001b[39m# type: ignore[call-arg]  # mypy is not smart enough here\u001b[39;00m\n\u001b[1;32m--> <a href='file:///~/AppData/Local/Programs/Python/Python39/lib/site-packages/selenium/webdriver/remote/errorhandler.py?line=246'>247</a>\u001b[0m \u001b[39mraise\u001b[39;00m exception_class(message, screen, stacktrace)\n",
      "\u001b[1;31mNoSuchElementException\u001b[0m: Message: no such element: Unable to locate element: {\"method\":\"xpath\",\"selector\":\"/html/body/div[4]/div/div/div/div[7]/div/div[1]/div/ul/li/ul/li[1]/a/span\"}\n  (Session info: chrome=98.0.4758.102)\nStacktrace:\nBacktrace:\n\tOrdinal0 [0x00CC69A3+2582947]\n\tOrdinal0 [0x00C5A6D1+2139857]\n\tOrdinal0 [0x00B53A98+1063576]\n\tOrdinal0 [0x00B7FF3E+1244990]\n\tOrdinal0 [0x00B8013B+1245499]\n\tOrdinal0 [0x00BA9F52+1417042]\n\tOrdinal0 [0x00B98594+1344916]\n\tOrdinal0 [0x00BA834A+1409866]\n\tOrdinal0 [0x00B98366+1344358]\n\tOrdinal0 [0x00B75176+1200502]\n\tOrdinal0 [0x00B76066+1204326]\n\tGetHandleVerifier [0x00E6BE02+1675858]\n\tGetHandleVerifier [0x00F2036C+2414524]\n\tGetHandleVerifier [0x00D5BB01+560977]\n\tGetHandleVerifier [0x00D5A8D3+556323]\n\tOrdinal0 [0x00C6020E+2163214]\n\tOrdinal0 [0x00C65078+2183288]\n\tOrdinal0 [0x00C651C0+2183616]\n\tOrdinal0 [0x00C6EE1C+2223644]\n\tBaseThreadInitThunk [0x765EFA29+25]\n\tRtlGetAppContainerNamedObjectPath [0x77237A9E+286]\n\tRtlGetAppContainerNamedObjectPath [0x77237A6E+238]\n"
     ]
    }
   ],
   "source": [
    "sneakers = browser.find_element_by_xpath(\"/html/body/div[4]/div/div/div/div[7]/div/div[1]/div/ul/li/ul/li[1]/a/span\")\n",
    "sneakers.click()\n",
    "time.sleep(2)"
   ]
  },
  {
   "cell_type": "markdown",
   "metadata": {},
   "source": [
    "##### Récupérer une liste d'éléments"
   ]
  },
  {
   "cell_type": "code",
   "execution_count": null,
   "metadata": {},
   "outputs": [
    {
     "name": "stderr",
     "output_type": "stream",
     "text": [
      "C:\\Users\\pierr\\AppData\\Local\\Temp\\ipykernel_6392\\444691736.py:1: DeprecationWarning: find_elements_by_* commands are deprecated. Please use find_elements() instead\n",
      "  articles = browser.find_elements_by_tag_name('article')\n"
     ]
    }
   ],
   "source": [
    "articles = browser.find_elements_by_tag_name('article')"
   ]
  },
  {
   "cell_type": "code",
   "execution_count": null,
   "metadata": {},
   "outputs": [],
   "source": [
    "articles[0].click()"
   ]
  },
  {
   "cell_type": "markdown",
   "metadata": {},
   "source": [
    "##### Récupérer le texte d'un élément"
   ]
  },
  {
   "cell_type": "code",
   "execution_count": null,
   "metadata": {},
   "outputs": [
    {
     "name": "stderr",
     "output_type": "stream",
     "text": [
      "C:\\Users\\pierr\\AppData\\Local\\Temp\\ipykernel_6392\\1394830115.py:2: DeprecationWarning: find_element_by_* commands are deprecated. Please use find_element() instead\n",
      "  marque = browser.find_element_by_xpath(\"/html/body/div[4]/div/div[1]/div/div/div[2]/x-wrapper-re-1-4/div/h1/span\")\n"
     ]
    },
    {
     "name": "stdout",
     "output_type": "stream",
     "text": [
      "AIR FORCE 1 SHADOW - Baskets basses\n"
     ]
    }
   ],
   "source": [
    "time.sleep(2)\n",
    "marque = browser.find_element_by_xpath(\"/html/body/div[4]/div/div[1]/div/div/div[2]/x-wrapper-re-1-4/div/h1/span\")\n",
    "print(marque.text)"
   ]
  },
  {
   "cell_type": "markdown",
   "metadata": {},
   "source": [
    " ##### Intéragir avec les barres de recherches"
   ]
  },
  {
   "cell_type": "code",
   "execution_count": null,
   "metadata": {},
   "outputs": [
    {
     "name": "stderr",
     "output_type": "stream",
     "text": [
      "C:\\Users\\pierr\\AppData\\Local\\Temp\\ipykernel_6392\\908443724.py:1: DeprecationWarning: find_element_by_* commands are deprecated. Please use find_element() instead\n",
      "  recherche = browser.find_element_by_xpath('//*[@id=\"z-navicat-header-root\"]/header/div[2]/div/div/div/div[1]/div/div/div/div[2]/div[3]/form/div/input')\n"
     ]
    }
   ],
   "source": [
    "recherche = browser.find_element_by_xpath('//*[@id=\"z-navicat-header-root\"]/header/div[2]/div/div/div/div[1]/div/div/div/div[2]/div[3]/form/div/input')\n",
    "recherche.send_keys('chaussures femme')\n",
    "time.sleep(6)"
   ]
  },
  {
   "cell_type": "code",
   "execution_count": null,
   "metadata": {},
   "outputs": [],
   "source": [
    "recherche.send_keys(Keys.ENTER)\n",
    "time.sleep(3)"
   ]
  },
  {
   "cell_type": "code",
   "execution_count": null,
   "metadata": {},
   "outputs": [],
   "source": [
    "#browser.back() # pages precedentes\n",
    "browser.close() # fermer le navigateur"
   ]
  },
  {
   "cell_type": "markdown",
   "metadata": {},
   "source": [
    "## Exercice \n",
    "\n",
    "Scrappez la marque, le modèle et le prix d'une série d'articles de votre choix pour en faire un dataframe pandas"
   ]
  },
  {
   "cell_type": "code",
   "execution_count": null,
   "metadata": {},
   "outputs": [],
   "source": []
  }
 ],
 "metadata": {
  "interpreter": {
   "hash": "60b51427f979fa642d0033feef923a8722499a3dd60fba6b33cc7fbc8e3730d0"
  },
  "kernelspec": {
   "display_name": "Python 3.7",
   "language": "python",
   "name": "python3"
  },
  "language_info": {
   "codemirror_mode": {
    "name": "ipython",
    "version": 3
   },
   "file_extension": ".py",
   "mimetype": "text/x-python",
   "name": "python",
   "nbconvert_exporter": "python",
   "pygments_lexer": "ipython3",
   "version": "3.9.9"
  },
  "varInspector": {
   "cols": {
    "lenName": 16,
    "lenType": 16,
    "lenVar": 40
   },
   "kernels_config": {
    "python": {
     "delete_cmd_postfix": "",
     "delete_cmd_prefix": "del ",
     "library": "var_list.py",
     "varRefreshCmd": "print(var_dic_list())"
    },
    "r": {
     "delete_cmd_postfix": ") ",
     "delete_cmd_prefix": "rm(",
     "library": "var_list.r",
     "varRefreshCmd": "cat(var_dic_list()) "
    }
   },
   "types_to_exclude": [
    "module",
    "function",
    "builtin_function_or_method",
    "instance",
    "_Feature"
   ],
   "window_display": false
  }
 },
 "nbformat": 4,
 "nbformat_minor": 2
}
